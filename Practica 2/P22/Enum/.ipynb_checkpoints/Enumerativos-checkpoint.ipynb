{
 "cells": [
  {
   "cell_type": "markdown",
   "metadata": {},
   "source": [
    "<div style=\"padding:30px; color: white; background-color: #0071CD\">\n",
    "<center>\n",
    "<img src=\"img/logoUB.jpeg\"></img>\n",
    "<center>\n",
    "<p>\n",
    "<h1>Algorísmica Avançada</h1>\n",
    "<h2>Práctica 2 - Enumerativos </h2>\n",
    "</center>\n",
    "</p>\n",
    "</div>"
   ]
  },
  {
   "cell_type": "markdown",
   "metadata": {},
   "source": [
    "<div class=\"alert alert-info\">\n",
    "<center>\n",
    "  <h1>Introducción</h1>\n",
    "</center>"
   ]
  },
  {
   "cell_type": "markdown",
   "metadata": {},
   "source": [
    "En esta práctica implementaremos un algoritmo de ramificación y poda para solucionar el problema de la mochila:\n",
    "\n",
    "(from Wikipedia): En algoritmia, el problema de la mochila, comúnmente abreviado por KP (del inglés Knapsack problem) es un problema de optimización combinatoria, es decir, que busca la mejor solución entre un conjunto finito de posibles soluciones a un problema. Modela una situación análoga al llenar una mochila, incapaz de soportar más de un peso determinado, con todo o parte de un conjunto de objetos, cada uno con un peso y valor específicos. Los objetos colocados en la mochila deben maximizar el valor total sin exceder el peso máximo.\n",
    "\n",
    "Supongamos que tenemos n distintos tipos de ítems, que van del 1 al n. De cada tipo de ítem se tienen q ítems disponibles (que puede ser diferente para cada ítem).\n",
    "\n",
    "Cada tipo de ítem tiene un beneficio asociado v y un peso (o volumen) w. Se asume que el beneficio y el peso no son negativos. \n",
    "\n",
    "Por otro lado se tiene una mochila, donde se pueden introducir los ítems, que soporta un peso máximo (o volumen máximo) W.\n",
    "\n",
    "El problema consiste en meter en la mochila ítems de tal forma que se maximice el valor de los ítems que contiene y siempre que no se supere el peso (o volumen) máximo que puede soportar la misma. La solución al problema vendrá dado por la secuencia de variables x1, x2, ..., xn donde el valor de xi indica cuantas copias se meterán en la mochila del tipo de ítem i."
   ]
  },
  {
   "cell_type": "markdown",
   "metadata": {},
   "source": [
    "<div class=\"alert alert-info\">\n",
    "<center>\n",
    "  <h1>Contenido</h1>\n",
    "  </center><p>\n",
    "\n"
   ]
  },
  {
   "cell_type": "markdown",
   "metadata": {},
   "source": [
    "\n",
    "<div class=\"alert alert-success\" style=\"width:90%; margin:0 auto;\">\n",
    "  <h2><p>Ramificación y poda: Problema de la mochila</p></h2>\n",
    "  \n",
    "  <div class=\"row\">\n",
    "  <div>\n",
    "  <p style=\"text-align: justify; padding-right: 30px\">\n",
    "  Implementa mediante ramificación y poda una solución al problema de la mochila con tal de encontrar el listado ordenado de items a introducir en la mochila de tal forma que el beneficio (en términos de valor) acumulado en la mochila sea máximo.\n",
    "  </p>\n",
    "  </div>\n"
   ]
  },
  {
   "cell_type": "markdown",
   "metadata": {},
   "source": [
    "<div class=\"alert alert-danger\" style=\"width:80%; margin:0 auto; padding\">\n",
    "<center><p><h3> Código </h3></p> </center> \n",
    "\n",
    "<p>\n",
    "<h3>INPUT</h3>\n",
    "<ul>\n",
    "<li>V1: vector del peso asociado a cada ítem (cada posición corresponde a cada uno de los n ítems).</li>\n",
    "<li>V2: vector del valor asociado a cada ítem (cada posición corresponde a cada uno de los n ítems).</li>\n",
    "<li>V3: vector con la cantidad de elementos disponibles de cada tipo de ítem (cada posición corresponde a cada uno de los n ítems).</li>\n",
    "<li>X: peso máximo que soporta la mochila a ser rellenada por ítems con el objetivo de maximizar el valor que contiene.</li>\n",
    "</ul>\n",
    "<br>\n",
    "<h3>OUTPUT</h3>\n",
    "Listado de elementos que se introducen en la mochila (en el orden en el que se introducen, índice del ítem, la longitud del vector es la cantidad de elementos que se introducen en la mochila) y el valor total de la mochila.\n",
    "</p>\n",
    "\n",
    "</div>"
   ]
  },
  {
   "cell_type": "code",
   "execution_count": 61,
   "metadata": {
    "collapsed": false
   },
   "outputs": [],
   "source": [
    "\n",
    "def RP(v1,v2,v3,X):\n",
    "    \n",
    "    ##################################################################\n",
    "    #He decidit crear un tercer vector que conte el nom de cada item #\n",
    "    #ja que a mi s'em feia molt extrany treballar amb valors que     #\n",
    "    #estan a diferents vectors, aixi que els hi poso nom i els poso  #\n",
    "    #dins d'una llista                                               #\n",
    "    ##################################################################\n",
    "\n",
    "    noms = []\n",
    "    for i in range(len(v1)):\n",
    "        noms.append('item'+str(i))\n",
    "        \n",
    "    #Creo tants items com vegades un item esta repetit, i l'afegeixo als\n",
    "    #seus vectors corresponents\n",
    "    \n",
    "    for i in range(len(v1)):\n",
    "        if v3[i] !=1:\n",
    "            for j in range(v3[i]-1):\n",
    "                v1.append(v1[i])\n",
    "                v2.append(v2[i])\n",
    "                noms.append(noms[i])\n",
    "                \n",
    "    #Funcio zip: junta dos llistes de la mateixa mida, en aquest cas,\n",
    "    #els junta en \"triplets\"\n",
    "    triplets_Valors = zip(noms,v1,v2)\n",
    "    \n",
    "    #Ordeno basanme en la eficiencia de cadascun, entenen eficiencia com\n",
    "    #valor/pes.\n",
    "    #lambda es una funcio anonima. En aquest cas, em calcula aquesta divisio\n",
    "    #(entera) amb els parametres d'entrada (i,w i v) i guardant el resultat\n",
    "    #a \"key\", per despres ordenar-ho en una llista \"sort\". Reverse = True \n",
    "    #fa que ordeni de gran a petit, es a dir, sort[0] sera el mes gran\n",
    "    \n",
    "    sort = sorted(triplets_Valors,key=lambda(i,w,v): v//w,reverse = True)\n",
    "    \n",
    "    #Clase que defineix un estat qualsevol\n",
    "    class Posibilitat():\n",
    "        def __init__(self,altura,benefici,pes,ocupat):\n",
    "            self.altura = altura #\"Nivell\" del arbre\n",
    "            self.benefici = benefici #Benefici == \"Valor\"\n",
    "            self.pes = pes\n",
    "            self.ocupat = ocupat #Llista que conte aquells items agafats. Si\n",
    "            #hi ha un '1', esta ocupat.\n",
    "            \n",
    "            #Llista per marcarlos tots a \"disponible\", es a dir, no estan explorats\n",
    "            self.disponible = self.ocupat[:self.altura]+[1]*(len(sort)-altura)\n",
    "            self.cota = self.cotaSup()\n",
    "            \n",
    "        #Defineix una cota superior \n",
    "        def cotaSup(self):\n",
    "            \n",
    "            cota = 0\n",
    "            temp = 0 #Cota acumulada\n",
    "            \n",
    "            #Atencio: \"_\" significa algo que podem despreciar, es a dir\n",
    "            #a mi el nom no mimporta per fer la cota superior, pero els\n",
    "            #triplets estan formats per nom,pes,valor.\n",
    "            #Buscant a internet he trobat \"_\".\n",
    "            \n",
    "            for disponible, (_,pes,val) in zip(self.disponible,sort):\n",
    "                if pes * disponible <= X - temp:\n",
    "                    temp += pes*disponible\n",
    "                    cota += val*disponible\n",
    "                else:\n",
    "                    cota += val*(X-temp) / pes *  disponible\n",
    "                    break;\n",
    "            return cota\n",
    "            \n",
    "        def solve(self):\n",
    "            altura = self.altura +1\n",
    "            \n",
    "            #Torno a fer servir \"_\" perque torno a no voler fer servir el nom\n",
    "            _, pes, valor = sort[self.altura]\n",
    "            leftPes = self.pes + pes\n",
    "            #Si no esta plena, crea el seu fill esquerre\n",
    "            if (leftPes <= X):\n",
    "                leftBenefici = self.benefici + valor\n",
    "                leftOcupat = self.ocupat[:self.altura]+[1]+self.ocupat[altura:]\n",
    "                leftFill = Posibilitat(altura,leftBenefici,leftPes,leftOcupat)\n",
    "            else:\n",
    "                leftFill = None\n",
    "            \n",
    "            #De totes maneres, em de crear el dret,\n",
    "            rightFill = Posibilitat(altura,self.benefici,self.pes,self.ocupat)\n",
    "            \n",
    "            #Per despres veure quin retornem\n",
    "            if leftFill is None:\n",
    "                return [rightFill]\n",
    "            else:\n",
    "                return [leftFill,rightFill]\n",
    "        \n",
    "    #Es l'arrel, començo amb res   \n",
    "    first = Posibilitat(0,0,0,[0]*len(sort))\n",
    "    \n",
    "    #Aqui posare els estats que han de ser explorats\n",
    "    aAnalitzar = []\n",
    "    \n",
    "    actual = first\n",
    "    \n",
    "    while actual.altura < len(sort): #Vaig fent nivell per nivell\n",
    "        \n",
    "        #Extend: vui que amplii la llista actual, no que hi crei una de nova a la posicio\n",
    "        aAnalitzar.extend(actual.solve()) \n",
    "        \n",
    "        #Ordeno la llista despera basanme en la seva cota superior\n",
    "        aAnalitzar.sort(key=lambda t: t.cota)\n",
    "        \n",
    "        actual = aAnalitzar.pop() #Trec el que te major cota\n",
    "    \n",
    "    ramificacio = actual #La millor solucio\n",
    "    \n",
    "    item = [] #El millor item\n",
    "    \n",
    "    for i in range(len(ramificacio.ocupat)):\n",
    "        if (ramificacio.ocupat[i]==1):\n",
    "            item.append(noms[i])\n",
    "    \n",
    "    return {\n",
    "        'Items a dins ': item,\n",
    "        'Valor maxim ' : ramificacio.benefici\n",
    "    }"
   ]
  },
  {
   "cell_type": "markdown",
   "metadata": {},
   "source": [
    "<div class=\"alert alert-danger\" style=\"width:80%; margin:0 auto; padding\">\n",
    "<center><p><h3> Comentarios </h3></p> </center> \n",
    "\n",
    "</div>"
   ]
  },
  {
   "cell_type": "markdown",
   "metadata": {},
   "source": [
    "### En esta sección debéis responder a las preguntas siguientes:\n",
    "#### 1. Implementar un juego de test y justificar los resultados\n",
    "#### 2. Análisis de complejidad de vuestra implementación"
   ]
  },
  {
   "cell_type": "code",
   "execution_count": 32,
   "metadata": {
    "collapsed": false
   },
   "outputs": [
    {
     "data": {
      "text/plain": [
       "{'Items a dins ': ['item0', 'item2'], 'Valor maxim ': 5}"
      ]
     },
     "execution_count": 32,
     "metadata": {},
     "output_type": "execute_result"
    }
   ],
   "source": [
    "# TEST #\n",
    "\n",
    "# CAS TRIVIAL:\n",
    "\n",
    "v1 = [4,3,5]\n",
    "v2 = [1,3,2]\n",
    "v3 = [1,1,1]\n",
    "RP(v1,v2,v3,10)"
   ]
  },
  {
   "cell_type": "code",
   "execution_count": 35,
   "metadata": {
    "collapsed": false
   },
   "outputs": [
    {
     "data": {
      "text/plain": [
       "{'Items a dins ': ['item0', 'item1', 'item2', 'item3', 'item4', 'item0'],\n",
       " 'Valor maxim ': 600}"
      ]
     },
     "execution_count": 35,
     "metadata": {},
     "output_type": "execute_result"
    }
   ],
   "source": [
    "# TEST #\n",
    "\n",
    "# Cas no tan - trivial\n",
    "\n",
    "v1 = [9, 13, 153, 50, 15,4]\n",
    "v2 = [150, 35, 200, 160, 60,45]\n",
    "v3 = [3,2,1,4,3,2]\n",
    "\n",
    "#Podem veure que el primer item (item0) te un pes mes o menys petit amb un \n",
    "#valor molt gran. A sobre, en tenim 3 d'ells. A simple vista, haura d'estar present a la\n",
    "#motxilla mes d'un cop.\n",
    "\n",
    "\n",
    "RP(v1,v2,v3,50)"
   ]
  },
  {
   "cell_type": "code",
   "execution_count": 38,
   "metadata": {
    "collapsed": false
   },
   "outputs": [
    {
     "data": {
      "text/plain": [
       "{'Items a dins ': ['item0',\n",
       "  'item1',\n",
       "  'item2',\n",
       "  'item3',\n",
       "  'item4',\n",
       "  'item5',\n",
       "  'item6',\n",
       "  'item7',\n",
       "  'item8',\n",
       "  'item9',\n",
       "  'item12',\n",
       "  'item13'],\n",
       " 'Valor maxim ': 1030}"
      ]
     },
     "execution_count": 38,
     "metadata": {},
     "output_type": "execute_result"
    }
   ],
   "source": [
    "# TEST #\n",
    "\n",
    "#Cas exagerat: He agafat l'exemple de \n",
    "#http://rosettacode.org/wiki/Knapsack_problem/0-1\n",
    "#Pero ells no tenen un tercer vector. Ho podem provar amb \n",
    "#el vector  \"v3\" amb tot 1's o com volguem:\n",
    "\n",
    "v1 = [9, 13, 153, 50, 15, 68, 27, 39, 23, 52, 11, 32, 24, 48, 73, 42, 43, 22,\n",
    "      7, 18, 4, 30]                        \n",
    "v2 = [150, 35, 200, 160, 60, 45, 60, 40, 30, 10, 70, 30, 15, 10, 40,70, 75, 80,\n",
    "      20, 12, 50, 10]\n",
    "#v3 per veure l'exemple de Roseta Code:\n",
    "v3 = [1, 1, 1, 1, 1, 1, 1, 1, 1, 1, 1, 1, 1, 1, 1, 1, 1, 1, 1, 1, 1, 1, 1, 1, 1, 1, 1, 1, 1, 1, 1, 1, 1, 1, 1, 1, 1, 1, 1, 1, 1, 1, 1, 1]\n",
    "\n",
    "#V3 alternatiu\n",
    "#v3 = [1, 3, 2, 4, 7, 2, 4, 6, 4, 2, 6, 7, 7, 2, 4, 4, 6, 9, 1, 1, 5, 3, 4, 3, 3,1, 1, 2, 1, 5, 4, 3, 2, 1, 5, 9, 6, 4, 3, 1, 2, 3, 1, 1]\n",
    "\n",
    "RP(v1,v2,v3,400)"
   ]
  },
  {
   "cell_type": "markdown",
   "metadata": {},
   "source": [
    "**Analisis de la complexitat**\n",
    "\n",
    "Tinc fins a un total de N items que haig de posar a dins d'una motxilla capaç \n",
    "de soportar X pes.\n",
    "\n",
    "Començo per un \"root\" i d'allà vaig fent subproblemes. Aquests subproblemes es fan N·X vegades i la cantitat de treball per subproblema no creix, ja que nomès \n",
    "haig d'agafar la millor de les dos alternatives. En definitiva, **O(N·X)**\n"
   ]
  },
  {
   "cell_type": "markdown",
   "metadata": {},
   "source": [
    "<div class=\"alert alert-info\">\n",
    "<center>\n",
    "  <h1>Entrega</h1>\n",
    "</center>\n",
    "<p>\n",
    "La entrega de esta práctica tiene como fecha límite el **domingo, 25 de diciembre de 2016 a las 23:55**. En el campus virtual deberéis subir este fichero con las funciones implementadas y las secciones de comentarios debidamente rellenadas.\n",
    "</p>\n",
    "\n",
    "<p>\n",
    "Este fichero es la parte 2/2 de la segunda entrega, correspondiente a algoritmos enumerativos: ramificación y poda.\n",
    "</p>\n",
    "\n",
    "<p>\n",
    "La entrega tiene que consistir en un solo fichero **.ipynb** con el nombre: AA\\_*Apellido1Apellido2*_*Nombre*_en1.ipyn\n",
    "</p>"
   ]
  }
 ],
 "metadata": {
  "anaconda-cloud": {},
  "kernelspec": {
   "display_name": "Python [default]",
   "language": "python",
   "name": "python2"
  },
  "language_info": {
   "codemirror_mode": {
    "name": "ipython",
    "version": 2
   },
   "file_extension": ".py",
   "mimetype": "text/x-python",
   "name": "python",
   "nbconvert_exporter": "python",
   "pygments_lexer": "ipython2",
   "version": "2.7.12"
  }
 },
 "nbformat": 4,
 "nbformat_minor": 0
}

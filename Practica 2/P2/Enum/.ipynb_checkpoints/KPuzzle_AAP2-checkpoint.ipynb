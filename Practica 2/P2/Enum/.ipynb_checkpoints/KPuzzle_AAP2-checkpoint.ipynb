{
 "cells": [
  {
   "cell_type": "markdown",
   "metadata": {},
   "source": [
    "<div style=\"padding:30px; color: white; background-color: #0071CD\">\n",
    "<center>\n",
    "<p>\n",
    "<h1>Algorítimica Avançada</h1>\n",
    "<h2>Exámen práctico II - KPuzzle </h2>\n",
    "</center>\n",
    "</p>\n",
    "</div>"
   ]
  },
  {
   "cell_type": "code",
   "execution_count": null,
   "metadata": {
    "collapsed": true
   },
   "outputs": [],
   "source": [
    "data_item = ['map', 'compass', 'water', 'sandwich', 'glucose', 'tin', 'banana',\n",
    "             'apple', 'cheese', 'beer', 'suntan', 'camera', 'T', 'trousers',\n",
    "             'umbrella', 'w t', 'w o', 'note-case', 'sunglasses', 'towel',\n",
    "             'socks', 'book']\n",
    "data_weight = [9, 13, 153, 50, 15, 68, 27, 39, 23, 52, 11, 32, 24, 48, 73, 42,\n",
    "               43, 22, 7, 18, 4, 30]\n",
    "data_value = [150, 35, 200, 160, 60, 45, 60, 40, 30, 10, 70, 30, 15, 10, 40,\n",
    "              70, 75, 80, 20, 12, 50, 10]\n",
    "data_sorted = sorted(zip(data_item, data_weight, data_value),\n",
    "                     key=lambda (i, w, v): v//w)\n",
    "\n",
    "max_weight = 400\n",
    "\n",
    "\n",
    "class State(object):\n",
    "    def __init__(self, level, benefit, weight, token):\n",
    "        # token = list marking if a task is token. ex. [1, 0, 0] means\n",
    "        # item0 token, item1 non-token, item2 non-token\n",
    "        # available = list marking all tasks available, i.e. not explored yet\n",
    "        self.level = level\n",
    "        self.benefit = benefit\n",
    "        self.weight = weight\n",
    "        self.token = token\n",
    "        self.available = self.token[:self.level]+[1]*(len(data_sorted)-level)\n",
    "        self.ub = self.upperbound()\n",
    "\n",
    "    def upperbound(self):  # define upperbound using fractional knaksack\n",
    "        upperbound = 0  # initial upperbound\n",
    "        # accumulated weight used to stop the upperbound summation\n",
    "        weight_accumulate = 0\n",
    "        for avail, (_, wei, val) in zip(self.available, data_sorted):\n",
    "            if wei * avail <= max_weight - weight_accumulate:\n",
    "                weight_accumulate += wei * avail\n",
    "                upperbound += val * avail\n",
    "            else:\n",
    "                upperbound += val * (max_weight - weight_accumulate) / wei * avail\n",
    "                break\n",
    "        return upperbound\n",
    "\n",
    "    def develop(self):\n",
    "        level = self.level + 1\n",
    "        _, weight, value = data_sorted[self.level]\n",
    "        left_weight = self.weight + weight\n",
    "        if left_weight <= max_weight:  # if not overweighted, give left child\n",
    "            left_benefit = self.benefit + value\n",
    "            left_token = self.token[:self.level]+[1]+self.token[level:]\n",
    "            left_child = State(level, left_benefit, left_weight, left_token)\n",
    "        else:\n",
    "            left_child = None\n",
    "        # anyway, give right child\n",
    "        right_child = State(level, self.benefit, self.weight, self.token)\n",
    "        return ([] if left_child is None else [left_child]) + [right_child]\n",
    "\n",
    "\n",
    "Root = State(0, 0, 0, [0] * len(data_sorted))  # start with nothing\n",
    "waiting_States = []  # list of States waiting to be explored\n",
    "current_state = Root\n",
    "while current_state.level < len(data_sorted):\n",
    "    waiting_States.extend(current_state.develop())\n",
    "    # sort the waiting list based on their upperbound\n",
    "    waiting_States.sort(key=lambda x: x.ub)\n",
    "    # explore the one with largest upperbound\n",
    "    current_state = waiting_States.pop()\n",
    "best_item = [item for tok, (item, _, _)\n",
    "             in zip(current_state.token, data_sorted) if tok == 1]\n",
    "\n",
    "print \"Total weight: \", current_state.weight\n",
    "print \"Total Value: \", current_state.benefit\n",
    "print \"Items:\", best_item"
   ]
  },
  {
   "cell_type": "markdown",
   "metadata": {},
   "source": [
    "<div class=\"alert alert-danger\">\n",
    "<center>\n",
    "  <h1>ATENCIÓN!</h1>\n",
    "  \n",
    "  Para realizar la entrega, hay que subir únicamente este fichero renombrado como: __*apellidos*_*nombre*_KPuzzle_AAP2.ipynb__\n",
    "</center>"
   ]
  },
  {
   "cell_type": "markdown",
   "metadata": {},
   "source": [
    "<div class=\"alert alert-info\">\n",
    "<center>\n",
    "  <h1>Introducción</h1>\n",
    "</center>"
   ]
  },
  {
   "cell_type": "markdown",
   "metadata": {},
   "source": [
    "El 8-Puzzle es un conocido puzzle deslizante que consiste en una cuadrícula de elementos numerados donde uno de los elementos no tiene ningún valor. El siguiente código muestra un ejemplo de un tablero resuelto, y un tablero por resolver: "
   ]
  },
  {
   "cell_type": "code",
   "execution_count": 8,
   "metadata": {
    "collapsed": false
   },
   "outputs": [
    {
     "name": "stdout",
     "output_type": "stream",
     "text": [
      "Ejemplo de tablero resuelto:\n",
      "+-----------+\n",
      "| 1 | 2 | 3 | \n",
      "+-----------+\n",
      "| 4 | 5 | 6 | \n",
      "+-----------+\n",
      "| 7 | 8 |   | \n",
      "+-----------+\n",
      "\n",
      "Ejemplo de tablero no resuelto:\n",
      "+-----------+\n",
      "| 1 | 5 | 2 | \n",
      "+-----------+\n",
      "| 4 |   | 3 | \n",
      "+-----------+\n",
      "| 7 | 8 | 6 | \n",
      "+-----------+\n"
     ]
    }
   ],
   "source": [
    "from npuzzle import NPuzzle\n",
    "np = NPuzzle()\n",
    "board = np.create_board()\n",
    "solved_board = np.create_board(solved=True)\n",
    "\n",
    "print \"Ejemplo de tablero resuelto:\"\n",
    "np.print_board(solved_board)\n",
    "print \"\\nEjemplo de tablero no resuelto:\"\n",
    "np.print_board(board)\n"
   ]
  },
  {
   "cell_type": "markdown",
   "metadata": {},
   "source": [
    "En este ejercicio queremos resolver de forma automática cualquier 8Puzzle propuesto utilizando __Branch & Bound__. Para simplificar la implementación se os da la clase __NPuzzle__ que os permite realizar las acciones más comunes sobre un tablero."
   ]
  },
  {
   "cell_type": "code",
   "execution_count": 9,
   "metadata": {
    "collapsed": false
   },
   "outputs": [
    {
     "ename": "NameError",
     "evalue": "name 'puzzle' is not defined",
     "output_type": "error",
     "traceback": [
      "\u001b[0;31m---------------------------------------------------------------------------\u001b[0m",
      "\u001b[0;31mNameError\u001b[0m                                 Traceback (most recent call last)",
      "\u001b[0;32m<ipython-input-9-e4bf823ac513>\u001b[0m in \u001b[0;36m<module>\u001b[0;34m()\u001b[0m\n\u001b[1;32m      3\u001b[0m \u001b[0;34m\u001b[0m\u001b[0m\n\u001b[1;32m      4\u001b[0m \u001b[0;31m# Crear un tablero nuevo:\u001b[0m\u001b[0;34m\u001b[0m\u001b[0;34m\u001b[0m\u001b[0m\n\u001b[0;32m----> 5\u001b[0;31m \u001b[0mboard\u001b[0m \u001b[0;34m=\u001b[0m \u001b[0mpuzzle\u001b[0m\u001b[0;34m.\u001b[0m\u001b[0mcreate_board\u001b[0m\u001b[0;34m(\u001b[0m\u001b[0;34m)\u001b[0m\u001b[0;34m\u001b[0m\u001b[0m\n\u001b[0m\u001b[1;32m      6\u001b[0m \u001b[0;34m\u001b[0m\u001b[0m\n\u001b[1;32m      7\u001b[0m \u001b[0;31m# Imprimir el tablero\u001b[0m\u001b[0;34m\u001b[0m\u001b[0;34m\u001b[0m\u001b[0m\n",
      "\u001b[0;31mNameError\u001b[0m: name 'puzzle' is not defined"
     ]
    }
   ],
   "source": [
    "# Crear la clase NPuzzle\n",
    "np = NPuzzle()\n",
    "\n",
    "# Crear un tablero nuevo:\n",
    "board = puzzle.create_board()\n",
    "\n",
    "# Imprimir el tablero\n",
    "print \"Imprimir tablero:\"\n",
    "puzzle.print_board(board)\n",
    "print \"\"\n",
    "\n",
    "# Mostrar los movimientos posibles en un estado, L=Left, R=Right, U=Up, D=Down\n",
    "am = puzzle.allowed_moves(board)\n",
    "print \"Movimientos posibles:\"\n",
    "print am\n",
    "print \"\"\n",
    "\n",
    "# Mover una pieza\n",
    "new_board = puzzle.move(board, am[0])\n",
    "print \"Tablero despues de realizar el movimiento\", am[0]\n",
    "puzzle.print_board(new_board)\n",
    "print \"\"\n",
    "\n",
    "# Comprobar el estado (True si está solucionado, False si no lo está)\n",
    "print \"La condición de final de juego es:\", puzzle.state(new_board)"
   ]
  },
  {
   "cell_type": "markdown",
   "metadata": {},
   "source": [
    "<div class=\"alert alert-info\">\n",
    "<center>\n",
    "  <h1>Código</h1>\n",
    "</center>"
   ]
  },
  {
   "cell_type": "markdown",
   "metadata": {},
   "source": [
    "\n",
    "<div class=\"alert alert-success\" style=\"width:90%; margin:0 auto;\">\n",
    "\n",
    "  <p>\n",
    "  Se os pide que programéis una función que sea capaz de resolver un 8-Puzzle dada cualquier posible configuración inicial (La función puzzle.create_board solo devuelve configuraciones que tengan solución)\n",
    "  </p>\n",
    "  <p>\n",
    "  La implementación del algoritmo ha de ser utilizando ramificación y poda. Para ramificar el arbol de estados utilizaremos como heurística la suma de la distáncia de Manhattan de todas las piezas a su posición objetivo. Esta función se os da implementada de la siguiente forma: **puzzle.manhattan_distance(board)**\n",
    "  </p>\n",
    "  <p>\n",
    "  El objetivo del código es encontrar la solución óptima, que en este caso es la que tiene un menor número de pasos. Por lo tanto, para la implementación de la poda, utilizaremos como valor de cota la profundidad.\n",
    " </p>\n",
    "  <p>"
   ]
  },
  {
   "cell_type": "markdown",
   "metadata": {},
   "source": [
    "<div class=\"alert alert-danger\" style=\"width:80%; margin:0 auto; padding\">\n",
    "<center><p><h3> Tips and Tricks </h3></p> </center>\n",
    "<p>\n",
    "<ul>\n",
    "<li>\n",
    "Hay que tener cuidado con los estados repetidos. Se os da la función **puzzle.get_state_id(board)** para poder obtener un string único dado un tablero.\n",
    "</li>\n",
    "<li>\n",
    "Para la ramificación, la clase NPuzzle incluye **puzzle.manhattan_distance(board)**.\n",
    "</li>\n",
    "\n",
    "\n",
    "</p>\n",
    "</div>\n"
   ]
  },
  {
   "cell_type": "code",
   "execution_count": 24,
   "metadata": {
    "collapsed": false
   },
   "outputs": [],
   "source": [
    "%reset -f\n",
    "\n",
    "class puzzleInstance:\n",
    "    def __init__(self, tableroInstance, numPasos, manDistance, idPuzzle):\n",
    "        self.tableroInstance = tableroInstance\n",
    "        self.numPasos = numPasos\n",
    "        self.manDistance = manDistance\n",
    "        self.idPuzzle = idPuzzle\n",
    "    def getTableroInstance(self):\n",
    "        return self.tableroInstance\n",
    "    def getNumPasos(self):\n",
    "        return self.numPasos\n",
    "    def getManDistance(self):\n",
    "        return self.manDistance\n",
    "\n",
    "from npuzzle import NPuzzle\n",
    "from heapq import *\n",
    "#heappush(heap, (-key, value))\n",
    "#heappop(heap)\n",
    "def solve(board):\n",
    "    global puzzle\n",
    "    '''\n",
    "    Función para la resolución de un KPuzzle.\n",
    "    \n",
    "    :param board: Tablero del KPuzzle que queremos resolver\n",
    "    :type board: numpy.array\n",
    "    :returns: diccionario que contiene 'n_moves', 'expanded_nodes' y 'final_board'.\n",
    "    :rtype: dict\n",
    "    '''\n",
    "    #Primero comprobamos que no es la solución trivial\n",
    "    if (puzzle.state(board) == True):\n",
    "        return {\n",
    "        # Número de movimientos hasta alcanzar la solución\n",
    "        'n_moves' : 0,\n",
    "        # Número de nodos expandidos en total\n",
    "        'expanded_nodes' : 0,\n",
    "        # Tablero en el estado final\n",
    "        'final_board' : board\n",
    "    }\n",
    "    #Comenzamos el algoritmo\n",
    "    \"\"\"Proceso de creación de elementos necesarios\"\"\"\n",
    "    costeMejorSol = 9999999999\n",
    "    mejorSol = None\n",
    "    priorityQueue = [] #Tendrá como key la distancia de manhattan y como value una instancia de puzzleInstance\n",
    "    solved_board = puzzle.create_board(solved=True) #Lo guardamos para más adelante\n",
    "    expanded_nodes = 0 #Se actualiza cada vez que sacamos algo de la cola\n",
    "    repetidos = set()\n",
    "    \"\"\"Comienza el algoritmo\"\"\"\n",
    "    #Primero creamos la primera instancia del algoritmo, la inicial\n",
    "    #Guardamos en el diccionario de instancias repetidas el id único\n",
    "    repetidos.add(puzzle.get_state_id(board))\n",
    "    primeraInstancia = puzzleInstance(board, 0, puzzle.manhattan_distance(board), puzzle.get_state_id(board))\n",
    "    heappush(priorityQueue, (primeraInstancia.getManDistance(), primeraInstancia))\n",
    "    #Todo listo, comenzamos a iterar\n",
    "    #Mientras que la cola tenga elementos\n",
    "    while(len(priorityQueue)>0):\n",
    "        expanded_nodes +=1\n",
    "        #Sacamos el elemento\n",
    "        instanciaExtraida = heappop(priorityQueue)[1]\n",
    "        #Iteramos para todos los elementos\n",
    "        for posibleMovimiento in puzzle.allowed_moves(instanciaExtraida.getTableroInstance()):\n",
    "            #Primero clonamos el tablero\n",
    "            tableroClonado = puzzle.move(instanciaExtraida.getTableroInstance(), posibleMovimiento)\n",
    "            #Ahora comprobamos que esta instancia es plausible y que no se ha repetido su instancia\n",
    "            #Si no está en el diccionario de repetidos (plausible) procedemos a realizar el algoritmo\n",
    "            if(puzzle.get_state_id(tableroClonado) not in repetidos):\n",
    "                #Creamos el nuevo tablero\n",
    "                instanciaActual = puzzleInstance(tableroClonado, instanciaExtraida.getNumPasos()+1, puzzle.manhattan_distance(tableroClonado), puzzle.get_state_id(tableroClonado))\n",
    "                #Comprobamos la cota\n",
    "                if(instanciaActual.getNumPasos()+instanciaActual.getManDistance() < costeMejorSol):\n",
    "                    #Si se cumple hemos pasado la cota\n",
    "                    if(puzzle.state(tableroClonado) == True):\n",
    "                        #Es una solución\n",
    "                        mejorSol = instanciaActual\n",
    "                        costeMejorSol = instanciaActual.getNumPasos()\n",
    "                    #Si no lo cumple PERO tiene mejor cota, lo añadimos a la cola prioritaria\n",
    "                    else:\n",
    "                        heappush(priorityQueue, (instanciaActual.getManDistance(), instanciaActual))\n",
    "                    repetidos.add(puzzle.get_state_id(tableroClonado))\n",
    "    return {\n",
    "        # Número de movimientos hasta alcanzar la solución\n",
    "        'n_moves' : mejorSol.getNumPasos(),\n",
    "        # Número de nodos expandidos en total\n",
    "        'expanded_nodes' : expanded_nodes,\n",
    "        # Tablero en el estado final\n",
    "        'final_board' : mejorSol.getTableroInstance()\n",
    "    }\n",
    "\n",
    "#No lo he usado"
   ]
  },
  {
   "cell_type": "code",
   "execution_count": 25,
   "metadata": {
    "collapsed": false
   },
   "outputs": [
    {
     "data": {
      "text/plain": [
       "{'expanded_nodes': 98311, 'final_board': array([[1, 2, 3],\n",
       "        [4, 5, 6],\n",
       "        [7, 8, 0]]), 'n_moves': 48}"
      ]
     },
     "execution_count": 25,
     "metadata": {},
     "output_type": "execute_result"
    }
   ],
   "source": [
    "# TEST #\n",
    "puzzle = NPuzzle()\n",
    "board = puzzle.create_board()\n",
    "\n",
    "solve(board)"
   ]
  },
  {
   "cell_type": "code",
   "execution_count": 14,
   "metadata": {
    "collapsed": false
   },
   "outputs": [
    {
     "data": {
      "text/plain": [
       "{'expanded_nodes': 149308, 'final_board': array([[1, 2, 3],\n",
       "        [4, 5, 6],\n",
       "        [7, 8, 0]]), 'n_moves': 42}"
      ]
     },
     "execution_count": 14,
     "metadata": {},
     "output_type": "execute_result"
    }
   ],
   "source": [
    "# TEST #\n",
    "puzzle = NPuzzle()\n",
    "board = puzzle.create_board()\n",
    "\n",
    "solve(board)"
   ]
  },
  {
   "cell_type": "code",
   "execution_count": 15,
   "metadata": {
    "collapsed": false
   },
   "outputs": [
    {
     "data": {
      "text/plain": [
       "{'expanded_nodes': 180089, 'final_board': array([[1, 2, 3],\n",
       "        [4, 5, 6],\n",
       "        [7, 8, 0]]), 'n_moves': 108}"
      ]
     },
     "execution_count": 15,
     "metadata": {},
     "output_type": "execute_result"
    }
   ],
   "source": [
    "# TEST #\n",
    "puzzle = NPuzzle()\n",
    "board = puzzle.create_board()\n",
    "\n",
    "solve(board)"
   ]
  },
  {
   "cell_type": "code",
   "execution_count": 16,
   "metadata": {
    "collapsed": false
   },
   "outputs": [
    {
     "data": {
      "text/plain": [
       "{'expanded_nodes': 100422, 'final_board': array([[1, 2, 3],\n",
       "        [4, 5, 6],\n",
       "        [7, 8, 0]]), 'n_moves': 32}"
      ]
     },
     "execution_count": 16,
     "metadata": {},
     "output_type": "execute_result"
    }
   ],
   "source": [
    "# TEST #\n",
    "puzzle = NPuzzle()\n",
    "board = puzzle.create_board()\n",
    "\n",
    "solve(board)"
   ]
  },
  {
   "cell_type": "code",
   "execution_count": 21,
   "metadata": {
    "collapsed": false
   },
   "outputs": [
    {
     "data": {
      "text/plain": [
       "{'expanded_nodes': 70, 'final_board': array([[1, 2, 3],\n",
       "        [4, 5, 6],\n",
       "        [7, 8, 0]]), 'n_moves': 6}"
      ]
     },
     "execution_count": 21,
     "metadata": {},
     "output_type": "execute_result"
    }
   ],
   "source": [
    "# TEST #\n",
    "puzzle = NPuzzle()\n",
    "board = puzzle.create_board()\n",
    "\n",
    "solve(board)"
   ]
  },
  {
   "cell_type": "code",
   "execution_count": 20,
   "metadata": {
    "collapsed": false
   },
   "outputs": [],
   "source": [
    "for i in range(100422):\n",
    "    i = i"
   ]
  },
  {
   "cell_type": "markdown",
   "metadata": {},
   "source": [
    "He realizado varios test para que veas que en general resuelve siempre el puzzle."
   ]
  },
  {
   "cell_type": "markdown",
   "metadata": {},
   "source": [
    "<div class=\"alert alert-info\">\n",
    "<center>\n",
    "  <h1>Preguntas</h1>\n",
    "</center>"
   ]
  },
  {
   "cell_type": "markdown",
   "metadata": {},
   "source": [
    "### 1. Como has implementado el algoritmo?\n",
    "\n",
    "He utilizado el algoritmo estándar de branch and bound. He creado además un set para evitar los estados repetidos dónde podo todos los estados que tengan ids ya introducidas en el set. Como elemento de \"probabilidad\" para ordenar el min heap he usado la distancia de Manhattan, de manera que extraigo siempre los elementos con menos distancia de Manhattan.\n",
    "\n",
    "Para guardar los datos de una instancia he creado una clase de instancias que guarda todo aquella información útil sobre la instancia determinada (tablero, distancia de Manhattan, número de pasos.\n",
    "\n",
    "\n",
    "### 2. Que criterios utilizas para hacer la poda?\n",
    "\n",
    "La poda la hago por el número de pasos. Buscamos minimizar el número de pasos así que cuando tengo algún elemento con iguales o mayores pasos que la cota mejor solución, que actualizo siempre que encuentro una solución, podo toda la rama pertinente pues todos sus hijos tendrán más pasos.\n",
    "\n",
    "### 3. Realiza un análisis de complejidad del algoritmo\n",
    "\n",
    "Como es una búsqueda exhaustiva el máximo de pasos que realizará vendrán determinados por la cantidad de combinaciones posibles (en el peor caso las visitará todas porque le ha tocado un orden muy malo). (Sin embargo cabe recordar que estará acotado por el peor tiempo, pero sin embargo normalmente gracias a las cotas el tiempo será notablemente inferior)\n",
    "\n",
    "Por tanto:\n",
    "\n",
    "$\\text{Complejidad temporal}=\\text{Número de combinaciones posibles}=2^{\\text{Todas las formas de ordenar nueve números}}=2^{9!}$"
   ]
  },
  {
   "cell_type": "code",
   "execution_count": 13,
   "metadata": {
    "collapsed": false
   },
   "outputs": [
    {
     "data": {
      "text/plain": [
       "362880"
      ]
     },
     "execution_count": 13,
     "metadata": {},
     "output_type": "execute_result"
    }
   ],
   "source": [
    "9*8*7*6*5*4*3*2"
   ]
  },
  {
   "cell_type": "markdown",
   "metadata": {},
   "source": [
    "(Una cantidad demasiado elevada)"
   ]
  }
 ],
 "metadata": {
  "anaconda-cloud": {},
  "kernelspec": {
   "display_name": "Python [conda root]",
   "language": "python",
   "name": "conda-root-py"
  },
  "language_info": {
   "codemirror_mode": {
    "name": "ipython",
    "version": 2
   },
   "file_extension": ".py",
   "mimetype": "text/x-python",
   "name": "python",
   "nbconvert_exporter": "python",
   "pygments_lexer": "ipython2",
   "version": "2.7.12"
  }
 },
 "nbformat": 4,
 "nbformat_minor": 1
}

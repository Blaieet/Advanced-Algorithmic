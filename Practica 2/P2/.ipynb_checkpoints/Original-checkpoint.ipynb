{
 "cells": [
  {
   "cell_type": "markdown",
   "metadata": {},
   "source": [
    "<div style=\"padding:30px; color: white; background-color: #0071CD\">\n",
    "<center>\n",
    "<img src=\"img/logoUB.jpeg\"></img>\n",
    "<center>\n",
    "<p>\n",
    "<h1>Algorísmica Avançada</h1>\n",
    "<h2>Práctica 2 - Programación dinámica </h2>\n",
    "</center>\n",
    "</p>\n",
    "</div>"
   ]
  },
  {
   "cell_type": "markdown",
   "metadata": {},
   "source": [
    "<div class=\"alert alert-info\">\n",
    "<center>\n",
    "  <h1>Introducción</h1>\n",
    "</center>"
   ]
  },
  {
   "cell_type": "markdown",
   "metadata": {},
   "source": [
    "En esta práctica de una única sesión implementaremos un algoritmo de programación dinámica, Dynamic Time Warping (DTW), para encontrar el matching \"óptimo\" de un vector de reales de entrada dentro de un vector de posible longitud \"infinita\" minimizando un criterio de distancia.\n",
    "\n",
    "Como se ha comentado en clase de teoría, los algoritmos de programación dinámica definen una función de coste que se aplica sobre un conjunto de subproblemas (más fáciles de resolver que la solución global), de tal forma que la solución en una nueva iteración está compuesta de soluciones óptimas parciales, asegurando la optimalidad de la solución final. "
   ]
  },
  {
   "cell_type": "markdown",
   "metadata": {},
   "source": [
    "<div class=\"alert alert-info\">\n",
    "<center>\n",
    "  <h1>Contenido</h1>\n",
    "  </center><p>\n",
    "\n"
   ]
  },
  {
   "cell_type": "markdown",
   "metadata": {},
   "source": [
    "\n",
    "<div class=\"alert alert-success\" style=\"width:90%; margin:0 auto;\">\n",
    "  <h2><p>DTW</p></h2>\n",
    "  \n",
    "  <div class=\"row\">\n",
    "  <div>\n",
    "  <p style=\"text-align: justify; padding-right: 30px\">\n",
    "  Implementa el algoritmo DTW presentado en clase de teoría. Para ello, las entradas serán 2 vectores, el patron a buscar, y el vector donde encontrar el patrón. Usaremos valores reales en cada posición del vector, que hipotéticamente representarán valores de un sensor inercial situado en la muñeca de un usuario que realiza gestos con el objetivo de interaccionar con una interfaz. El código debe implementar DTW de tal forma que la salida sea, el coste de la asociación más factible, mostrando la posición de inicio-fin dentro del segundo vector.\n",
    "  </p>\n",
    "  </div>\n"
   ]
  },
  {
   "cell_type": "markdown",
   "metadata": {},
   "source": [
    "<div class=\"alert alert-danger\" style=\"width:80%; margin:0 auto; padding\">\n",
    "<center><p><h3> Código </h3></p> </center> \n",
    "\n",
    "<p>\n",
    "<h3>INPUT</h3>\n",
    "<ul>\n",
    "<li>V1: vector patrón.</li>\n",
    "<li>V2: vector sobre el cual encontrar el inicio-fin más factible de V1.</li>\n",
    "</ul>\n",
    "<br>\n",
    "<h3>OUTPUT</h3>\n",
    "El coste de la asociación más factible, mostrando la posición de inicio-fin dentro del segundo vector.\n",
    "</p>\n",
    "\n",
    "</div>"
   ]
  },
  {
   "cell_type": "code",
   "execution_count": null,
   "metadata": {
    "collapsed": false
   },
   "outputs": [],
   "source": [
    "#Utilitzo la llibreria numpy per treballar amb matrius. Mes comode per mi\n",
    "get_ipython().magic(u'pylab inline')\n",
    "#Limito els decimals a 1, treballo millor aixi\n",
    "np.set_printoptions(formatter={'float': lambda x: \"{0:0.1f}\".format(x)})"
   ]
  },
  {
   "cell_type": "markdown",
   "metadata": {},
   "source": [
    "**Atencio: en la meva implementacio, la matriu esta girada, és a dir,\n",
    "el patro el poso en columnes (x) i el vector en files (y)**"
   ]
  },
  {
   "cell_type": "code",
   "execution_count": 53,
   "metadata": {
    "collapsed": false
   },
   "outputs": [],
   "source": [
    "\n",
    "def DTW(x,y):\n",
    "    \n",
    "    #Creo la matriu de distancies. np.zeros = la inicialitza a zeros\n",
    "    matrix = np.zeros((len(y), len(x)))\n",
    "    \n",
    "    #Per cada fila, per cada columna:\n",
    "    for i in range(len(y)):\n",
    "        for j in range(len(x)):\n",
    "            #Calcula la seva distancia euclidiana i insereixa a la matriu\n",
    "            matrix[i,j] = distancia_euclidiana(x[j],y[i])\n",
    "    \n",
    "    #print matrix\n",
    "    \n",
    "    #Aquesta sera la matriu que contindra els costos acumulats, inicialitzada\n",
    "    #a zero\n",
    "    matrix_Cost = warping_path(matrix,x,y)\n",
    "            \n",
    "\n",
    "    path, cost,start,end = backtracking(x,y,matrix_Cost,matrix)\n",
    "                        \n",
    "    print \"\\nPath:\\n\",path, \"\\nCost:\",cost,\"\\nComença:\\n\",start,\"\\nAcaba:\\n\",end\n",
    "    \n",
    "def distancia_euclidiana(x,y):\n",
    "    return pow(abs(x-y),2)\n",
    "\n",
    "def warping_path(matrix,x,y):\n",
    "    \n",
    "    #############################################################\n",
    "    #Per crear una correlacio ente les dos senyals, necesitem   #\n",
    "    #crear una ruta en la matriu. Obligatoriament, aquesta ha de#\n",
    "    #començar a (0,0) y vol arribar a (m,n) (longituds de les   #\n",
    "    #dues senyals). Es a dir, el nostre objectiu es trobar el   #\n",
    "    #minim cami de la distancia minima. Aquest cami, te algunes #\n",
    "    #reestriccions: no podem \"tornar enrere\", el cami nomes va  #\n",
    "    #cap endavant. Si estem a (i,j), podem anar recte ((i+1,1)) #\n",
    "    #cap a dalt (i,j+1) o en diagonal (i+1,j+1)                 #\n",
    "    #############################################################\n",
    "\n",
    "    \n",
    "    matrix_Cost = np.zeros((len(y), len(x)))\n",
    "    \n",
    "    #Com que partim de (0,0), el cost acumulat en aquest punt es matrix(0,0)\n",
    "    matrix_Cost[0,0] = matrix[0,0]\n",
    "\n",
    "    for i in range(1, len(x)): #Ens movem per la columna, cap a la dreta\n",
    "\n",
    "        matrix_Cost[0,i] = matrix[0,i] + matrix_Cost[0, i-1]\n",
    "        \n",
    "    for i in range(1, len(y)): #Ens movem per la fila, cap a dalt\n",
    "        matrix_Cost[i,0] = matrix[i,0]+matrix_Cost[i-1,0]\n",
    "\n",
    "    for i in range(1, len(y)): #Per la resta\n",
    "        for j in range(1, len(x)):\n",
    "            matrix_Cost[i, j] = min(matrix_Cost[i-1, j-1],\n",
    "                                         matrix_Cost[i-1, j], \n",
    "                                         matrix_Cost[i, j-1]) + matrix[i, j]\n",
    "    \n",
    "    #Ara tenim la matriu que conte el cost de tots els camins a partir de (0,0)\n",
    "    #El seguent pas es trobar el cami minimitzant la distancia, per backtracking\n",
    "    return matrix_Cost\n",
    "\n",
    "\n",
    "def backtracking(x,y,matrix_Cost,matrix):\n",
    "    \n",
    "    #############################################################\n",
    "    #El proces de bactracking en el meu cas consisteix en moures#\n",
    "    #desde lultim punt (m,n) i trobar el punt on hauriem arribat#\n",
    "    #sempre minimitzant el cost                                 #\n",
    "    #############################################################\n",
    "    \n",
    "    \n",
    "    path = [[len(x)-1, len(y)-1]]\n",
    "    cost = 0\n",
    "    \n",
    "    i = len(y)-1\n",
    "    j = len(x)-1\n",
    "    \n",
    "    while i>0 and j>0:\n",
    "        if i==0:\n",
    "            j = j - 1\n",
    "        elif j==0:\n",
    "            i = i - 1\n",
    "        else:\n",
    "            if matrix_Cost[i-1, j] == min(matrix_Cost[i-1, j-1], \n",
    "                                          matrix_Cost[i-1, j], \n",
    "                                          matrix_Cost[i, j-1]):\n",
    "                i = i - 1\n",
    "            elif matrix_Cost[i, j-1] == min(matrix_Cost[i-1, j-1],\n",
    "                                            matrix_Cost[i-1, j],\n",
    "                                            matrix_Cost[i, j-1]):\n",
    "                j = j-1\n",
    "            else:\n",
    "                i = i - 1\n",
    "                j= j- 1\n",
    "        path.append([j, i])\n",
    "        \n",
    "    path.append([0,0])\n",
    "    \n",
    "    #Tinc el path, calculo la distancia\n",
    "    for [y, x] in path:\n",
    "        cost = cost +matrix[x, y]\n",
    "        \n",
    "    #Retorno tambe on comença i on acaba dins del vector\n",
    "    end = path[len(path)-1][1]\n",
    "    \n",
    "    start = path[0][1]\n",
    "    \n",
    "    #Extra: vull veure el cami representat\n",
    "    \n",
    "    pathX = [punt[0] for punt in path]\n",
    "    pathY = [punt[1] for punt in path]\n",
    "    \n",
    "    plot(matrix_Cost)\n",
    "    plt.plot(pathX,pathY)\n",
    "\n",
    "    return path, cost, start,end\n",
    "\n",
    "def plot(distancies):\n",
    "    im = plt.imshow(distancies, interpolation='nearest', cmap='Reds') \n",
    "    plt.gca().invert_yaxis()\n",
    "    plt.xlabel(\"X\")\n",
    "    plt.ylabel(\"Y\")\n",
    "    plt.grid()\n",
    "    plt.colorbar();"
   ]
  },
  {
   "cell_type": "markdown",
   "metadata": {},
   "source": [
    "<div class=\"alert alert-danger\" style=\"width:80%; margin:0 auto; padding\">\n",
    "<center><p><h3> Comentarios </h3></p> </center> \n",
    "\n",
    "</div>"
   ]
  },
  {
   "cell_type": "markdown",
   "metadata": {},
   "source": [
    "### En esta sección debéis responder a las preguntas siguientes:\n",
    "#### 1. Implementar un juego de test y justificar los resultados\n",
    "#### 2. Análisis de complejidad de vuestra implementación"
   ]
  },
  {
   "cell_type": "code",
   "execution_count": 54,
   "metadata": {
    "collapsed": false
   },
   "outputs": [
    {
     "name": "stdout",
     "output_type": "stream",
     "text": [
      "\n",
      "Calculem amb Dynamic Time Warping\n",
      "\n",
      "Path:\n",
      "[[6, 5], [5, 4], [4, 3], [3, 2], [2, 1], [2, 0], [0, 0]] \n",
      "Cost: 2.0 \n",
      "Comença:\n",
      "5 \n",
      "Acaba:\n",
      "0\n",
      "\n",
      "Mirem representat el seu cami:\n"
     ]
    },
    {
     "data": {
      "image/png": "[encoded data removed]",
      "text/plain": [
       "<matplotlib.figure.Figure at 0x988bc18>"
      ]
     },
     "metadata": {},
     "output_type": "display_data"
    }
   ],
   "source": [
    "# Test #\n",
    "\n",
    "#Cas trivial#\n",
    "\n",
    "#Patró\n",
    "v2 = np.array([1, 1, 2, 3, 2, 0])\n",
    "#Vector que hem captat\n",
    "v1 = np.array([0, 1, 1, 2, 3, 2, 1])\n",
    "\n",
    "print \"\\nCalculem amb Dynamic Time Warping\"\n",
    "\n",
    "DTW(v1,v2)\n",
    "\n",
    "print \"\\nMirem representat el seu cami:\""
   ]
  },
  {
   "cell_type": "code",
   "execution_count": 56,
   "metadata": {
    "collapsed": false
   },
   "outputs": [
    {
     "name": "stdout",
     "output_type": "stream",
     "text": [
      "\n",
      "Calculem amb Dynamic Time Warping\n",
      "\n",
      "Path:\n",
      "[[16, 5], [15, 4], [14, 4], [13, 4], [12, 4], [11, 4], [10, 4], [9, 4], [8, 4], [7, 4], [6, 4], [5, 4], [4, 4], [3, 4], [2, 3], [1, 3], [0, 2], [0, 0]] \n",
      "Cost: 2374.79 \n",
      "Comença:\n",
      "5 \n",
      "Acaba:\n",
      "0\n",
      "\n",
      "Mirem representat el seu cami:\n"
     ]
    },
    {
     "data": {
      "image/png": "[encoded data removed]",
      "text/plain": [
       "<matplotlib.figure.Figure at 0x9d4bfd0>"
      ]
     },
     "metadata": {},
     "output_type": "display_data"
    }
   ],
   "source": [
    "# Test #\n",
    "\n",
    "#Cas no tan trivial#\n",
    "\n",
    "#Patró\n",
    "v2 = np.array([1, 1.1, 2.1, 3, 2.4, 0])\n",
    "#Vector que hem captat\n",
    "v1 = np.array([2,5,51,1,0,1,1.1,2.1,3,2.4,1,5,2,3,1,5,6])\n",
    "\n",
    "print \"\\nCalculem amb Dynamic Time Warping\"\n",
    "\n",
    "DTW(v1,v2)\n",
    "\n",
    "print \"\\nMirem representat el seu cami:\""
   ]
  },
  {
   "cell_type": "markdown",
   "metadata": {},
   "source": [
    "**Analisi de la complexitat**\n",
    "\n",
    "Per tropar el path tenim que:\n",
    "\n",
    "* La ruta comença per (0,0) i acaba en (m,n)\n",
    "* No podem tornar enrere: o anem endavant, cap a la dreta o en diagonal\n",
    "\n",
    "\n",
    "De manera que aquestes restriccions impedeixen l'explosió combinatòria, es a dir, l'exploracio per força bruta, i converteixen el problema a un problema de programació dinàmica que pot ser resolt en temps O(M·N), on \"m\" es la mida del vector i \"n\" es la mida del patró a buscar en el vector."
   ]
  },
  {
   "cell_type": "markdown",
   "metadata": {},
   "source": [
    "<div class=\"alert alert-info\">\n",
    "<center>\n",
    "  <h1>Entrega</h1>\n",
    "</center>\n",
    "<p>\n",
    "La entrega de esta práctica tiene como fecha límite el **domingo, 25 de diciembre de 2016 a las 23:55**. En el campus virtual deberéis subir este fichero con las funciones implementadas y las secciones de comentarios debidamente rellenadas.\n",
    "</p>\n",
    "\n",
    "<p>\n",
    "Este fichero es la parte 1/2 de la segunda entrega, correspondiente a algoritmos de programación dinámica.\n",
    "</p>\n",
    "\n",
    "<p>\n",
    "La entrega tiene que consistir en un solo fichero **.ipynb** con el nombre: AA\\_*Apellido1Apellido2*_*Nombre*_dp1.ipyn\n",
    "</p>"
   ]
  }
 ],
 "metadata": {
  "anaconda-cloud": {},
  "kernelspec": {
   "display_name": "Python [conda root]",
   "language": "python",
   "name": "conda-root-py"
  },
  "language_info": {
   "codemirror_mode": {
    "name": "ipython",
    "version": 2
   },
   "file_extension": ".py",
   "mimetype": "text/x-python",
   "name": "python",
   "nbconvert_exporter": "python",
   "pygments_lexer": "ipython2",
   "version": "2.7.12"
  }
 },
 "nbformat": 4,
 "nbformat_minor": 0
}

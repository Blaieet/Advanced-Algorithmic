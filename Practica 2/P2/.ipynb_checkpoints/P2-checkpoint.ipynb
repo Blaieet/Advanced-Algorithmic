{
 "cells": [
  {
   "cell_type": "markdown",
   "metadata": {},
   "source": [
    "<div style=\"padding:30px; color: white; background-color: #0071CD\">\n",
    "<center>\n",
    "<img src=\"img/logoUB.jpeg\"></img>\n",
    "<center>\n",
    "<p>\n",
    "<h1>Algorísmica Avançada</h1>\n",
    "<h2>Práctica 2 - Programación dinámica </h2>\n",
    "</center>\n",
    "</p>\n",
    "</div>"
   ]
  },
  {
   "cell_type": "markdown",
   "metadata": {},
   "source": [
    "<div class=\"alert alert-info\">\n",
    "<center>\n",
    "  <h1>Introducción</h1>\n",
    "</center>"
   ]
  },
  {
   "cell_type": "markdown",
   "metadata": {},
   "source": [
    "En esta práctica de una única sesión implementaremos un algoritmo de programación dinámica, Dynamic Time Warping (DTW), para encontrar el matching \"óptimo\" de un vector de reales de entrada dentro de un vector de posible longitud \"infinita\" minimizando un criterio de distancia.\n",
    "\n",
    "Como se ha comentado en clase de teoría, los algoritmos de programación dinámica definen una función de coste que se aplica sobre un conjunto de subproblemas (más fáciles de resolver que la solución global), de tal forma que la solución en una nueva iteración está compuesta de soluciones óptimas parciales, asegurando la optimalidad de la solución final. "
   ]
  },
  {
   "cell_type": "markdown",
   "metadata": {},
   "source": [
    "<div class=\"alert alert-info\">\n",
    "<center>\n",
    "  <h1>Contenido</h1>\n",
    "  </center><p>\n",
    "\n"
   ]
  },
  {
   "cell_type": "markdown",
   "metadata": {},
   "source": [
    "\n",
    "<div class=\"alert alert-success\" style=\"width:90%; margin:0 auto;\">\n",
    "  <h2><p>DTW</p></h2>\n",
    "  \n",
    "  <div class=\"row\">\n",
    "  <div>\n",
    "  <p style=\"text-align: justify; padding-right: 30px\">\n",
    "  Implementa el algoritmo DTW presentado en clase de teoría. Para ello, las entradas serán 2 vectores, el patron a buscar, y el vector donde encontrar el patrón. Usaremos valores reales en cada posición del vector, que hipotéticamente representarán valores de un sensor inercial situado en la muñeca de un usuario que realiza gestos con el objetivo de interaccionar con una interfaz. El código debe implementar DTW de tal forma que la salida sea, el coste de la asociación más factible, mostrando la posición de inicio-fin dentro del segundo vector.\n",
    "  </p>\n",
    "  </div>\n"
   ]
  },
  {
   "cell_type": "markdown",
   "metadata": {},
   "source": [
    "<div class=\"alert alert-danger\" style=\"width:80%; margin:0 auto; padding\">\n",
    "<center><p><h3> Código </h3></p> </center> \n",
    "\n",
    "<p>\n",
    "<h3>INPUT</h3>\n",
    "<ul>\n",
    "<li>V1: vector patrón.</li>\n",
    "<li>V2: vector sobre el cual encontrar el inicio-fin más factible de V1.</li>\n",
    "</ul>\n",
    "<br>\n",
    "<h3>OUTPUT</h3>\n",
    "El coste de la asociación más factible, mostrando la posición de inicio-fin dentro del segundo vector.\n",
    "</p>\n",
    "\n",
    "</div>"
   ]
  },
  {
   "cell_type": "code",
   "execution_count": 23,
   "metadata": {
    "collapsed": false
   },
   "outputs": [
    {
     "name": "stdout",
     "output_type": "stream",
     "text": [
      "Populating the interactive namespace from numpy and matplotlib\n"
     ]
    }
   ],
   "source": [
    "#Llibreria numpy, per treballar amb matrius, a mi em va millor\n",
    "get_ipython().magic(u'pylab inline')\n",
    "\n",
    "#Em molesta que surtin tants decimals, aixi que aixo els redueix\n",
    "np.set_printoptions(formatter={'float': lambda x: \"{0:0.0f}\".format(x)})\n"
   ]
  },
  {
   "cell_type": "code",
   "execution_count": null,
   "metadata": {
    "collapsed": true
   },
   "outputs": [],
   "source": [
    "#Patró\n",
    "v2 = np.array([1, 1, 2, 3, 2, 0])\n",
    "#Vector que hem captat\n",
    "v1 = np.array([0, 1, 1, 2, 3, 2, 1])"
   ]
  },
  {
   "cell_type": "code",
   "execution_count": 24,
   "metadata": {
    "collapsed": false
   },
   "outputs": [
    {
     "data": {
      "text/plain": [
       "[<matplotlib.lines.Line2D at 0x8eefe48>]"
      ]
     },
     "execution_count": 24,
     "metadata": {},
     "output_type": "execute_result"
    },
    {
     "data": {
      "image/png": "[encoded data removed]",
      "text/plain": [
       "<matplotlib.figure.Figure at 0x8eefd30>"
      ]
     },
     "metadata": {},
     "output_type": "display_data"
    }
   ],
   "source": [
    "#Els dibuixem i veiem que les dos senyals tenen un comportament semblant\n",
    "plot(v1)\n",
    "plot(v2)"
   ]
  },
  {
   "cell_type": "code",
   "execution_count": null,
   "metadata": {
    "collapsed": true
   },
   "outputs": [],
   "source": []
  },
  {
   "cell_type": "code",
   "execution_count": 75,
   "metadata": {
    "collapsed": false
   },
   "outputs": [
    {
     "name": "stdout",
     "output_type": "stream",
     "text": [
      "[[1 1 4 9 4 0]\n",
      " [0 0 1 4 1 1]\n",
      " [0 0 1 4 1 1]\n",
      " [1 1 0 1 0 4]\n",
      " [4 4 1 0 1 9]\n",
      " [1 1 0 1 0 4]\n",
      " [0 0 1 4 1 1]]\n",
      "0.0\n",
      "[[5, 6], [4, 5], [3, 4], [2, 3], [1, 2], [1, 1], [0, 1], [0, 0], [0, 0]] hsf\n",
      "0.0\n",
      "[[5, 6], [4, 5], [3, 4], [2, 3], [1, 2], [1, 1], [0, 1], [0, 0], [0, 0]] hsf\n",
      "1.0\n",
      "[[5, 6], [4, 5], [3, 4], [2, 3], [1, 2], [1, 1], [0, 1], [0, 0], [0, 0]] hsf\n",
      "4.0\n",
      "[[5, 6], [4, 5], [3, 4], [2, 3], [1, 2], [1, 1], [0, 1], [0, 0], [0, 0]] hsf\n",
      "1.0\n",
      "[[5, 6], [4, 5], [3, 4], [2, 3], [1, 2], [1, 1], [0, 1], [0, 0], [0, 0]] hsf\n",
      "1.0\n",
      "[[5, 6], [4, 5], [3, 4], [2, 3], [1, 2], [1, 1], [0, 1], [0, 0], [0, 0]] hsf\n"
     ]
    }
   ],
   "source": [
    "\n",
    "def DTW(x,y,treshold):\n",
    "\n",
    "    distances = np.zeros((len(y), len(x))) \n",
    "    for i in range(len(y)):\n",
    "        for j in range(len(x)):\n",
    "            \n",
    "            distances[i,j] = distancia_euclidiana(x[j],y[i])\n",
    "    print distances\n",
    "\n",
    "\n",
    "    for i in range(len(x)):\n",
    "\n",
    "\n",
    "        fila = len(y)-1\n",
    "\n",
    "\n",
    "        if distances[fila,i] < 233:\n",
    "\n",
    "            \n",
    "            print distances[fila,i]\n",
    "            \n",
    "            accumulated_cost = costAcumulat(distances,x,y,i)\n",
    "            \n",
    "            path, cost = path_cost(x,y,accumulated_cost,distances)\n",
    "            \n",
    "            print path,\"hsf\"\n",
    "            \n",
    "\n",
    "    \n",
    "    \n",
    "    \n",
    "    \n",
    "    \n",
    "    \n",
    "def distancia_euclidiana(x,y):\n",
    "    return pow(abs(x-y),2)\n",
    "\n",
    "def costAcumulat(distances,x,y,coordenada):\n",
    "    j = len(y)-1\n",
    "    \n",
    "    accumulated_cost = np.zeros((len(y), len(x)))\n",
    "\n",
    "    accumulated_cost[0,0] = distances[j,coordenada]\n",
    "    \n",
    "\n",
    "    \n",
    "    for i in range(1, len(x)): #Cap a la dreta\n",
    "\n",
    "        accumulated_cost[0,i] = distances[0,i] + accumulated_cost[0, i-1]\n",
    "        \n",
    "    for i in range(1, len(y)): #Cap a l'esquerra\n",
    "        accumulated_cost[i,0] = distances[i,0]+accumulated_cost[i-j,0]\n",
    "\n",
    "    for i in range(1, len(y)): #Diagonal\n",
    "        for j in range(1, len(x)):\n",
    "            accumulated_cost[i, j] = min(accumulated_cost[i-1, j-1],\n",
    "                                         accumulated_cost[i-1, j], \n",
    "                                         accumulated_cost[i, j-1]) + distances[i, j]\n",
    "    \n",
    "    \n",
    "    return accumulated_cost\n",
    "\n",
    "def path_cost(x,y,accumulated_cost,distances):\n",
    "    \n",
    "    path = [[len(x)-1, len(y)-1]]\n",
    "    cost = 0\n",
    "    i = len(y)-1\n",
    "    j = len(x)-1\n",
    "    while i>0 and j>0:\n",
    "        if i==0:\n",
    "            j = j - 1\n",
    "        elif j==0:\n",
    "            i = i - 1\n",
    "        else:\n",
    "            if accumulated_cost[i-1, j] == min(accumulated_cost[i-1, j-1], accumulated_cost[i-1, j], accumulated_cost[i, j-1]):\n",
    "                i = i - 1\n",
    "            elif accumulated_cost[i, j-1] == min(accumulated_cost[i-1, j-1], accumulated_cost[i-1, j], accumulated_cost[i, j-1]):\n",
    "                j = j-1\n",
    "            else:\n",
    "                i = i - 1\n",
    "                j= j- 1\n",
    "        path.append([j, i])\n",
    "        \n",
    "    path.append([0,0])\n",
    "    path.append([0,0])\n",
    "    for [y, x] in path:\n",
    "        cost = cost +distances[x, y]\n",
    "    return path, cost    \n",
    "\n",
    "\n",
    "DTW(v2,v1,0.1)"
   ]
  },
  {
   "cell_type": "code",
   "execution_count": null,
   "metadata": {
    "collapsed": true
   },
   "outputs": [],
   "source": []
  },
  {
   "cell_type": "code",
   "execution_count": null,
   "metadata": {
    "collapsed": false
   },
   "outputs": [],
   "source": [
    "def path(x,y,distances):\n",
    "    \n",
    "    print accumulated_cost\n",
    "path(x,y,distances)"
   ]
  },
  {
   "cell_type": "code",
   "execution_count": null,
   "metadata": {
    "collapsed": true
   },
   "outputs": [],
   "source": []
  },
  {
   "cell_type": "code",
   "execution_count": null,
   "metadata": {
    "collapsed": true
   },
   "outputs": [],
   "source": []
  },
  {
   "cell_type": "code",
   "execution_count": null,
   "metadata": {
    "collapsed": true
   },
   "outputs": [],
   "source": []
  },
  {
   "cell_type": "code",
   "execution_count": null,
   "metadata": {
    "collapsed": false,
    "scrolled": true
   },
   "outputs": [],
   "source": [
    "def dtwDistance(x,y):\n",
    "    \n",
    "    infinity=99999999999\n",
    "\n",
    "    \n",
    "    llistaXY = []\n",
    "    \n",
    "    #llistaXY = [[0 for col in range(len(y)+1)] for fila in range(len(x)+1)]\n",
    "    \n",
    "    llistaXY = zeros((len(x)+1,len(y)+1))\n",
    "\n",
    "    llistaXY[0,1:] = 0\n",
    "\n",
    "    llistaXY[1:,0] = 0\n",
    "    \n",
    "    matriuNoInf = llistaXY[1:,1:]\n",
    "    \n",
    "    for i in range(len(x)):\n",
    "        for j in range(len(y)):\n",
    "            matriuNoInf[i,j] = (x[i]-y[j])**2  \n",
    "    \n",
    "    copia = matriuNoInf.copy()\n",
    "    \n",
    "    for i in range(len(x)):\n",
    "        for j in range(len(y)):\n",
    "            \n",
    "            matriuNoInf[i,j] += min(llistaXY[i,j], llistaXY[i,j+1],llistaXY[i+1,j])\n",
    "    print matriuNoInf\n",
    "    print matriuNoInf[-1,-1]\n",
    "    print matriuNoInf.shape\n",
    "    print sum(matriuNoInf.shape)\n",
    "    return matriuNoInf[-1,-1] / sum(matriuNoInf.shape)\n",
    "\n",
    "\n",
    "    \n",
    "\n",
    "dtwDistance(v1,v2)"
   ]
  },
  {
   "cell_type": "code",
   "execution_count": null,
   "metadata": {
    "collapsed": false
   },
   "outputs": [],
   "source": [
    "def DTW(V1,V2):\n",
    "    coste=0\n",
    "    inicio=0\n",
    "    fin=0\n",
    "    \n",
    "    return (coste, inicio, fin)"
   ]
  },
  {
   "cell_type": "markdown",
   "metadata": {},
   "source": [
    "<div class=\"alert alert-danger\" style=\"width:80%; margin:0 auto; padding\">\n",
    "<center><p><h3> Comentarios </h3></p> </center> \n",
    "\n",
    "</div>"
   ]
  },
  {
   "cell_type": "markdown",
   "metadata": {},
   "source": [
    "### En esta sección debéis responder a las preguntas siguientes:\n",
    "#### 1. Implementar un juego de test y justificar los resultados\n",
    "#### 2. Análisis de complejidad de vuestra implementación"
   ]
  },
  {
   "cell_type": "markdown",
   "metadata": {},
   "source": [
    "<div class=\"alert alert-info\">\n",
    "<center>\n",
    "  <h1>Entrega</h1>\n",
    "</center>\n",
    "<p>\n",
    "La entrega de esta práctica tiene como fecha límite el **domingo, 25 de diciembre de 2016 a las 23:55**. En el campus virtual deberéis subir este fichero con las funciones implementadas y las secciones de comentarios debidamente rellenadas.\n",
    "</p>\n",
    "\n",
    "<p>\n",
    "Este fichero es la parte 1/2 de la segunda entrega, correspondiente a algoritmos de programación dinámica.\n",
    "</p>\n",
    "\n",
    "<p>\n",
    "La entrega tiene que consistir en un solo fichero **.ipynb** con el nombre: AA\\_*Apellido1Apellido2*_*Nombre*_dp1.ipyn\n",
    "</p>"
   ]
  },
  {
   "cell_type": "code",
   "execution_count": null,
   "metadata": {
    "collapsed": false
   },
   "outputs": [],
   "source": [
    "from numpy import array, zeros, argmin, inf\n",
    "\n",
    "def dtw(x, y, dist):\n",
    "    \"\"\"\n",
    "    Computes Dynamic Time Warping (DTW) of two sequences.\n",
    "    :param array x: N1*M array\n",
    "    :param array y: N2*M array\n",
    "    :param func dist: distance used as cost measure\n",
    "    Returns the minimum distance, the cost matrix, the accumulated cost matrix, and the wrap path.\n",
    "    \"\"\"\n",
    "    assert len(x)\n",
    "    assert len(y)\n",
    "    r, c = len(x), len(y)\n",
    "    D0 = zeros((r + 1, c + 1))\n",
    "\n",
    "    D0[0, 1:] = 0\n",
    "    D0[1:, 0] = 0\n",
    "    print D0\n",
    "    D1 = D0[1:, 1:] # view\n",
    "    print D1\n",
    "    for i in range(r):\n",
    "        for j in range(c):\n",
    "            D1[i, j] = dist(x[i], y[j])\n",
    "    C = D1.copy()\n",
    "    for i in range(r):\n",
    "        for j in range(c):\n",
    "            D1[i, j] += min(D0[i, j], D0[i, j+1], D0[i+1, j])\n",
    "    if len(x)==1:\n",
    "        path = zeros(len(y)), range(len(y))\n",
    "    elif len(y) == 1:\n",
    "        path = range(len(x)), zeros(len(x))\n",
    "    else:\n",
    "        path = _traceback(D0)\n",
    "    \n",
    "    print D1\n",
    "    return D1[-1, -1] / sum(D1.shape), C, D1, path\n",
    "\n",
    "def _traceback(D):\n",
    "    i, j = array(D.shape) - 2\n",
    "    p, q = [i], [j]\n",
    "    while ((i > 0) or (j > 0)):\n",
    "        tb = argmin((D[i, j], D[i, j+1], D[i+1, j]))\n",
    "        if (tb == 0):\n",
    "            i -= 1\n",
    "            j -= 1\n",
    "        elif (tb == 1):\n",
    "            i -= 1\n",
    "        else: # (tb == 2):\n",
    "            j -= 1\n",
    "        p.insert(0, i)\n",
    "        q.insert(0, j)\n",
    "    return array(p), array(q)\n",
    "\n",
    "if __name__ == '__main__':\n",
    "    if 0: # 1-D numeric\n",
    "        from sklearn.metrics.pairwise import manhattan_distances\n",
    "        x = [0, 0, 1, 1, 2, 4, 2, 1, 2, 0]\n",
    "        y = [1, 1, 1, 2, 2, 2, 2, 3, 2, 0]\n",
    "        dist_fun = manhattan_distances\n",
    "    elif 0: # 2-D numeric\n",
    "        from sklearn.metrics.pairwise import euclidean_distances\n",
    "        x = [[0, 0], [0, 1], [1, 1], [1, 2], [2, 2], [4, 3], [2, 3], [1, 1], [2, 2], [0, 1]]\n",
    "        y = [[1, 0], [1, 1], [1, 1], [2, 1], [4, 3], [4, 3], [2, 3], [3, 1], [1, 2], [1, 0]]\n",
    "        dist_fun = euclidean_distances\n",
    "    else: # 1-D list of strings\n",
    "        from nltk.metrics.distance import edit_distance\n",
    "        #x = ['we', 'shelled', 'clams', 'for', 'the', 'chowder']\n",
    "        #y = ['class', 'too']\n",
    "        x = ['i', 'soon', 'found', 'myself', 'muttering', 'to', 'the', 'walls']\n",
    "        y = ['see', 'drown', 'himself']\n",
    "        #x = 'we talked about the situation'.split()\n",
    "        #y = 'we talked about the situation'.split()\n",
    "        dist_fun = edit_distance\n",
    "    dist, cost, acc, path = dtw(x, y, dist_fun)\n",
    "\n",
    "    # vizualize\n",
    "    from matplotlib import pyplot as plt\n",
    "    plt.imshow(cost.T, origin='lower', cmap=plt.cm.Reds, interpolation='nearest')\n",
    "    plt.plot(path[0], path[1], '-o') # relation\n",
    "    plt.xticks(range(len(x)), x)\n",
    "    plt.yticks(range(len(y)), y)\n",
    "    plt.xlabel('x')\n",
    "    plt.ylabel('y')\n",
    "    plt.axis('tight')\n",
    "    plt.title('Minimum distance: {}'.format(dist))\n",
    "    plt.show()"
   ]
  },
  {
   "cell_type": "code",
   "execution_count": null,
   "metadata": {
    "collapsed": false
   },
   "outputs": [],
   "source": [
    "\n",
    "def my_custom_norm(v1, v2):\n",
    "    return (x * x) + (y * y)\n",
    "\n",
    "dist, cost, acc, path = dtw(x, y, dist=my_custom_norm)"
   ]
  },
  {
   "cell_type": "code",
   "execution_count": null,
   "metadata": {
    "collapsed": true
   },
   "outputs": [],
   "source": []
  }
 ],
 "metadata": {
  "anaconda-cloud": {},
  "kernelspec": {
   "display_name": "Python [conda root]",
   "language": "python",
   "name": "conda-root-py"
  },
  "language_info": {
   "codemirror_mode": {
    "name": "ipython",
    "version": 2
   },
   "file_extension": ".py",
   "mimetype": "text/x-python",
   "name": "python",
   "nbconvert_exporter": "python",
   "pygments_lexer": "ipython2",
   "version": "2.7.12"
  }
 },
 "nbformat": 4,
 "nbformat_minor": 0
}

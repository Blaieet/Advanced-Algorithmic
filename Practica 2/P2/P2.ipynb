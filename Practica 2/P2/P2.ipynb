{
 "cells": [
  {
   "cell_type": "markdown",
   "metadata": {},
   "source": [
    "<div style=\"padding:30px; color: white; background-color: #0071CD\">\n",
    "<center>\n",
    "<img src=\"img/logoUB.jpeg\"></img>\n",
    "<center>\n",
    "<p>\n",
    "<h1>Algorísmica Avançada</h1>\n",
    "<h2>Práctica 2 - Programación dinámica </h2>\n",
    "</center>\n",
    "</p>\n",
    "</div>"
   ]
  },
  {
   "cell_type": "code",
   "execution_count": 9,
   "metadata": {
    "collapsed": false
   },
   "outputs": [
    {
     "name": "stdout",
     "output_type": "stream",
     "text": [
      "Total weight:  400\n",
      "Total Value:  1110\n",
      "Items: ['cheese', 'map', 'socks', 'suntan', 'glucose', 'sandwich', 'note-case', 'compass', 'banana', 'sunglasses', 'water', 'w t', 'w o']\n"
     ]
    }
   ],
   "source": [
    "data_item = ['map', 'compass', 'water', 'sandwich', 'glucose', 'tin', 'banana',\n",
    "             'apple', 'cheese', 'beer', 'suntan', 'camera', 'T', 'trousers',\n",
    "             'umbrella', 'w t', 'w o', 'note-case', 'sunglasses', 'towel',\n",
    "             'socks', 'book']\n",
    "data_weight = [9, 13, 153, 50, 15, 68, 27, 39, 23, 52, 11, 32, 24, 48, 73, 42,\n",
    "               43, 22, 7, 18, 4, 30]\n",
    "data_value = [150, 35, 200, 160, 60, 45, 60, 40, 30, 10, 70, 30, 15, 10, 40,\n",
    "              70, 75, 80, 20, 12, 50, 10]\n",
    "data_sorted = sorted(zip(data_item, data_weight, data_value),\n",
    "                     key=lambda (i, w, v): v//w, reverse=True)\n",
    "\n",
    "max_weight = 400\n",
    "\n",
    "\n",
    "class State(object):\n",
    "    def __init__(self, level, benefit, weight, token):\n",
    "        # token = list marking if a task is token. ex. [1, 0, 0] means\n",
    "        # item0 token, item1 non-token, item2 non-token\n",
    "        # available = list marking all tasks available, i.e. not explored yet\n",
    "        self.level = level\n",
    "        self.benefit = benefit\n",
    "        self.weight = weight\n",
    "        self.token = token\n",
    "        self.available = self.token[:self.level]+[1]*(len(data_sorted)-level)\n",
    "        self.ub = self.upperbound()\n",
    "\n",
    "    def upperbound(self):  # define upperbound using fractional knaksack\n",
    "        upperbound = 0  # initial upperbound\n",
    "        # accumulated weight used to stop the upperbound summation\n",
    "        weight_accumulate = 0\n",
    "        for avail, (_, wei, val) in zip(self.available, data_sorted):\n",
    "            if wei * avail <= max_weight - weight_accumulate:\n",
    "                weight_accumulate += wei * avail\n",
    "                upperbound += val * avail\n",
    "            else:\n",
    "                upperbound += val * (max_weight - weight_accumulate) / wei * avail\n",
    "                break\n",
    "        return upperbound\n",
    "\n",
    "    def develop(self):\n",
    "        level = self.level + 1\n",
    "        _, weight, value = data_sorted[self.level]\n",
    "        left_weight = self.weight + weight\n",
    "        if left_weight <= max_weight:  # if not overweighted, give left child\n",
    "            left_benefit = self.benefit + value\n",
    "            left_token = self.token[:self.level]+[1]+self.token[level:]\n",
    "            left_child = State(level, left_benefit, left_weight, left_token)\n",
    "        else:\n",
    "            left_child = None\n",
    "        # anyway, give right child\n",
    "        right_child = State(level, self.benefit, self.weight, self.token)\n",
    "        return ([] if left_child is None else [left_child]) + [right_child]\n",
    "\n",
    "\n",
    "Root = State(0, 0, 0, [0] * len(data_sorted))  # start with nothing\n",
    "waiting_States = []  # list of States waiting to be explored\n",
    "current_state = Root\n",
    "while current_state.level < len(data_sorted):\n",
    "    waiting_States.extend(current_state.develop())\n",
    "    # sort the waiting list based on their upperbound\n",
    "    waiting_States.sort(key=lambda x: x.ub)\n",
    "    # explore the one with largest upperbound\n",
    "    current_state = waiting_States.pop()\n",
    "best_item = [item for tok, (item, _, _)\n",
    "             in zip(current_state.token, data_sorted) if tok == 1]\n",
    "\n",
    "print \"Total weight: \", current_state.weight\n",
    "print \"Total Value: \", current_state.benefit\n",
    "print \"Items:\", best_item"
   ]
  },
  {
   "cell_type": "markdown",
   "metadata": {},
   "source": [
    "<div class=\"alert alert-info\">\n",
    "<center>\n",
    "  <h1>Introducción</h1>\n",
    "</center>"
   ]
  },
  {
   "cell_type": "markdown",
   "metadata": {},
   "source": [
    "En esta práctica de una única sesión implementaremos un algoritmo de programación dinámica, Dynamic Time Warping (DTW), para encontrar el matching \"óptimo\" de un vector de reales de entrada dentro de un vector de posible longitud \"infinita\" minimizando un criterio de distancia.\n",
    "\n",
    "Como se ha comentado en clase de teoría, los algoritmos de programación dinámica definen una función de coste que se aplica sobre un conjunto de subproblemas (más fáciles de resolver que la solución global), de tal forma que la solución en una nueva iteración está compuesta de soluciones óptimas parciales, asegurando la optimalidad de la solución final. "
   ]
  },
  {
   "cell_type": "markdown",
   "metadata": {},
   "source": [
    "<div class=\"alert alert-info\">\n",
    "<center>\n",
    "  <h1>Contenido</h1>\n",
    "  </center><p>\n",
    "\n"
   ]
  },
  {
   "cell_type": "markdown",
   "metadata": {},
   "source": [
    "\n",
    "<div class=\"alert alert-success\" style=\"width:90%; margin:0 auto;\">\n",
    "  <h2><p>DTW</p></h2>\n",
    "  \n",
    "  <div class=\"row\">\n",
    "  <div>\n",
    "  <p style=\"text-align: justify; padding-right: 30px\">\n",
    "  Implementa el algoritmo DTW presentado en clase de teoría. Para ello, las entradas serán 2 vectores, el patron a buscar, y el vector donde encontrar el patrón. Usaremos valores reales en cada posición del vector, que hipotéticamente representarán valores de un sensor inercial situado en la muñeca de un usuario que realiza gestos con el objetivo de interaccionar con una interfaz. El código debe implementar DTW de tal forma que la salida sea, el coste de la asociación más factible, mostrando la posición de inicio-fin dentro del segundo vector.\n",
    "  </p>\n",
    "  </div>\n"
   ]
  },
  {
   "cell_type": "markdown",
   "metadata": {},
   "source": [
    "<div class=\"alert alert-danger\" style=\"width:80%; margin:0 auto; padding\">\n",
    "<center><p><h3> Código </h3></p> </center> \n",
    "\n",
    "<p>\n",
    "<h3>INPUT</h3>\n",
    "<ul>\n",
    "<li>V1: vector patrón.</li>\n",
    "<li>V2: vector sobre el cual encontrar el inicio-fin más factible de V1.</li>\n",
    "</ul>\n",
    "<br>\n",
    "<h3>OUTPUT</h3>\n",
    "El coste de la asociación más factible, mostrando la posición de inicio-fin dentro del segundo vector.\n",
    "</p>\n",
    "\n",
    "</div>"
   ]
  },
  {
   "cell_type": "code",
   "execution_count": 15,
   "metadata": {
    "collapsed": false
   },
   "outputs": [
    {
     "name": "stdout",
     "output_type": "stream",
     "text": [
      "Populating the interactive namespace from numpy and matplotlib\n"
     ]
    },
    {
     "name": "stderr",
     "output_type": "stream",
     "text": [
      "C:\\Users\\blair\\Anaconda\\lib\\site-packages\\IPython\\core\\magics\\pylab.py:161: UserWarning: pylab import has clobbered these variables: ['cosh', 'ldexp', 'hypot', 'tan', 'isnan', 'log', 'fabs', 'floor', 'modf', 'sqrt', 'frexp', 'degrees', 'pi', 'log10', 'sin', 'fmod', 'copysign', 'expm1', 'ceil', 'isinf', 'sinh', 'trunc', 'cos', 'e', 'tanh', 'radians', 'exp', 'log1p', 'gamma']\n",
      "`%matplotlib` prevents importing * from pylab and numpy\n",
      "  \"\\n`%matplotlib` prevents importing * from pylab and numpy\"\n"
     ]
    }
   ],
   "source": [
    "#Llibreria numpy, per treballar amb matrius, a mi em va millor\n",
    "get_ipython().magic(u'pylab inline')\n",
    "\n",
    "#Em molesta que surtin tants decimals, aixi que aixo els redueix\n",
    "np.set_printoptions(formatter={'float': lambda x: \"{0:0.0f}\".format(x)})\n"
   ]
  },
  {
   "cell_type": "code",
   "execution_count": 23,
   "metadata": {
    "collapsed": true
   },
   "outputs": [],
   "source": [
    "#Patró\n",
    "v2 = np.array([1, 2, 3, 3, 5])\n",
    "#Vector que hem captat\n",
    "v1 = np.array([2, 3, 4, 5, 1, 2, 3,4,5,2,3,4,1,2,3,4,5,6,4,2,3,1,3])"
   ]
  },
  {
   "cell_type": "code",
   "execution_count": 24,
   "metadata": {
    "collapsed": false
   },
   "outputs": [
    {
     "data": {
      "text/plain": [
       "[<matplotlib.lines.Line2D at 0x80cc1d0>]"
      ]
     },
     "execution_count": 24,
     "metadata": {},
     "output_type": "execute_result"
    },
    {
     "data": {
      "image/png": "[encoded data removed]",
      "text/plain": [
       "<matplotlib.figure.Figure at 0x7ec6668>"
      ]
     },
     "metadata": {},
     "output_type": "display_data"
    }
   ],
   "source": [
    "#Els dibuixem i veiem que les dos senyals tenen un comportament semblant\n",
    "plot(v1)\n",
    "plot(v2)"
   ]
  },
  {
   "cell_type": "code",
   "execution_count": null,
   "metadata": {
    "collapsed": true
   },
   "outputs": [],
   "source": []
  },
  {
   "cell_type": "code",
   "execution_count": 22,
   "metadata": {
    "collapsed": false
   },
   "outputs": [
    {
     "name": "stdout",
     "output_type": "stream",
     "text": [
      "Matriu Euclidiana\n",
      "[[0 1 4 4 9 16 9 4 4 1 0]\n",
      " [1 0 1 1 4 9 4 1 1 0 1]\n",
      " [4 1 0 0 1 4 1 0 0 1 4]\n",
      " [9 4 1 1 0 1 0 1 1 4 9]\n",
      " [16 9 4 4 1 0 1 4 4 9 16]\n",
      " [25 16 9 9 4 1 4 9 9 16 25]\n",
      " [36 25 16 16 9 4 9 16 16 25 36]\n",
      " [49 36 25 25 16 9 16 25 25 36 49]\n",
      " [64 49 36 36 25 16 25 36 36 49 64]\n",
      " [81 64 49 49 36 25 36 49 49 64 81]\n",
      " [25 16 9 9 4 1 4 9 9 16 25]\n",
      " [36 25 16 16 9 4 9 16 16 25 36]\n",
      " [64 49 36 36 25 16 25 36 36 49 64]\n",
      " [9 4 1 1 0 1 0 1 1 4 9]\n",
      " [25 16 9 9 4 1 4 9 9 16 25]\n",
      " [64 49 36 36 25 16 25 36 36 49 64]\n",
      " [4 1 0 0 1 4 1 0 0 1 4]\n",
      " [1 0 1 1 4 9 4 1 1 0 1]\n",
      " [0 1 4 4 9 16 9 4 4 1 0]]\n",
      "\n",
      "Path:\n",
      "[[10, 0], [9, 17], [8, 16], [7, 16], [6, 16], [5, 15], [5, 14], [4, 13], [3, 13], [2, 13], [1, 13], [0, 13], [0, 0], [0, 0]] \n",
      "Cost:\n",
      "33.0\n",
      "\n",
      "Path:\n",
      "[[10, 18], [9, 17], [8, 16], [7, 16], [6, 16], [5, 15], [5, 14], [4, 13], [3, 13], [2, 13], [1, 13], [0, 13], [0, 0], [0, 0]] \n",
      "Cost:\n",
      "33.0\n"
     ]
    }
   ],
   "source": [
    "\n",
    "def DTW(x,y,treshold):\n",
    "\n",
    "    distances = np.zeros((len(y), len(x))) \n",
    "    for i in range(len(y)):\n",
    "        for j in range(len(x)):\n",
    "            \n",
    "            distances[i,j] = distancia_euclidiana(x[j],y[i])\n",
    "    print \"Matriu Euclidiana\\n\",distances\n",
    "\n",
    "    col = len(x)-1\n",
    "    for i in range(len(y)):\n",
    "\n",
    "        if distances[i,col] < treshold:\n",
    "\n",
    "            accumulated_cost = costAcumulat(distances,x,y,i)\n",
    "            \n",
    "\n",
    "            path, cost = path_cost(x,y,accumulated_cost,distances,i)\n",
    "                        \n",
    "            print \"\\nPath:\\n\",path, \"\\nCost:\\n\",cost\n",
    "    \n",
    "def distancia_euclidiana(x,y):\n",
    "    return pow(abs(x-y),2)\n",
    "\n",
    "def costAcumulat(distances,x,y,coordenada):\n",
    "    j = len(x)-1\n",
    "    \n",
    "    accumulated_cost = np.zeros((len(y), len(x)))\n",
    "    \n",
    "\n",
    "\n",
    "    accumulated_cost[0,0] = distances[coordenada,0]\n",
    "    \n",
    "\n",
    "    \n",
    "    for i in range(1, len(x)): #Cap a la dreta\n",
    "\n",
    "        accumulated_cost[0,i] = distances[0,i] + accumulated_cost[0, i-1]\n",
    "        \n",
    "    for i in range(1, len(y)): #Cap a l'esquerra\n",
    "        accumulated_cost[i,0] = distances[i,0]+accumulated_cost[i-j,0]\n",
    "\n",
    "    for i in range(1, len(y)): #Diagonal\n",
    "        for j in range(1, len(x)):\n",
    "            accumulated_cost[i, j] = min(accumulated_cost[i-1, j-1],\n",
    "                                         accumulated_cost[i-1, j], \n",
    "                                         accumulated_cost[i, j-1]) + distances[i, j]\n",
    "    \n",
    "    \n",
    "    return accumulated_cost\n",
    "\n",
    "def path_cost(x,y,accumulated_cost,distances,coordenada):\n",
    "    \n",
    "    \n",
    "    path = [[len(x)-1, coordenada]]\n",
    "\n",
    "    cost = 0\n",
    "    i = len(y)-1\n",
    "    j = len(x)-1\n",
    "    while i>0 and j>0:\n",
    "        if i==0:\n",
    "            j = j - 1\n",
    "        elif j==0:\n",
    "            i = i - 1\n",
    "        else:\n",
    "            if accumulated_cost[i-1, j] == min(accumulated_cost[i-1, j-1], accumulated_cost[i-1, j], accumulated_cost[i, j-1]):\n",
    "                i = i - 1\n",
    "            elif accumulated_cost[i, j-1] == min(accumulated_cost[i-1, j-1], accumulated_cost[i-1, j], accumulated_cost[i, j-1]):\n",
    "                j = j-1\n",
    "            else:\n",
    "                i = i - 1\n",
    "                j= j- 1\n",
    "        path.append([j, i])\n",
    "        \n",
    "    path.append([0,0])\n",
    "    path.append([0,0])\n",
    "    for [y, x] in path:\n",
    "        cost = cost +distances[x, y]\n",
    "    return path, cost    \n",
    "\n",
    "\n",
    "DTW(v2,v1,1)"
   ]
  },
  {
   "cell_type": "code",
   "execution_count": null,
   "metadata": {
    "collapsed": true
   },
   "outputs": [],
   "source": []
  },
  {
   "cell_type": "code",
   "execution_count": null,
   "metadata": {
    "collapsed": false
   },
   "outputs": [],
   "source": [
    "def path(x,y,distances):\n",
    "    \n",
    "    print accumulated_cost\n",
    "path(x,y,distances)"
   ]
  },
  {
   "cell_type": "code",
   "execution_count": null,
   "metadata": {
    "collapsed": true
   },
   "outputs": [],
   "source": []
  },
  {
   "cell_type": "code",
   "execution_count": null,
   "metadata": {
    "collapsed": true
   },
   "outputs": [],
   "source": []
  },
  {
   "cell_type": "code",
   "execution_count": null,
   "metadata": {
    "collapsed": true
   },
   "outputs": [],
   "source": []
  },
  {
   "cell_type": "code",
   "execution_count": null,
   "metadata": {
    "collapsed": false,
    "scrolled": true
   },
   "outputs": [],
   "source": [
    "def dtwDistance(x,y):\n",
    "    \n",
    "    infinity=99999999999\n",
    "\n",
    "    \n",
    "    llistaXY = []\n",
    "    \n",
    "    #llistaXY = [[0 for col in range(len(y)+1)] for fila in range(len(x)+1)]\n",
    "    \n",
    "    llistaXY = zeros((len(x)+1,len(y)+1))\n",
    "\n",
    "    llistaXY[0,1:] = 0\n",
    "\n",
    "    llistaXY[1:,0] = 0\n",
    "    \n",
    "    matriuNoInf = llistaXY[1:,1:]\n",
    "    \n",
    "    for i in range(len(x)):\n",
    "        for j in range(len(y)):\n",
    "            matriuNoInf[i,j] = (x[i]-y[j])**2  \n",
    "    \n",
    "    copia = matriuNoInf.copy()\n",
    "    \n",
    "    for i in range(len(x)):\n",
    "        for j in range(len(y)):\n",
    "            \n",
    "            matriuNoInf[i,j] += min(llistaXY[i,j], llistaXY[i,j+1],llistaXY[i+1,j])\n",
    "    print matriuNoInf\n",
    "    print matriuNoInf[-1,-1]\n",
    "    print matriuNoInf.shape\n",
    "    print sum(matriuNoInf.shape)\n",
    "    return matriuNoInf[-1,-1] / sum(matriuNoInf.shape)\n",
    "\n",
    "\n",
    "    \n",
    "\n",
    "dtwDistance(v1,v2)"
   ]
  },
  {
   "cell_type": "code",
   "execution_count": null,
   "metadata": {
    "collapsed": false
   },
   "outputs": [],
   "source": [
    "def DTW(V1,V2):\n",
    "    coste=0\n",
    "    inicio=0\n",
    "    fin=0\n",
    "    \n",
    "    return (coste, inicio, fin)"
   ]
  },
  {
   "cell_type": "markdown",
   "metadata": {},
   "source": [
    "<div class=\"alert alert-danger\" style=\"width:80%; margin:0 auto; padding\">\n",
    "<center><p><h3> Comentarios </h3></p> </center> \n",
    "\n",
    "</div>"
   ]
  },
  {
   "cell_type": "markdown",
   "metadata": {},
   "source": [
    "### En esta sección debéis responder a las preguntas siguientes:\n",
    "#### 1. Implementar un juego de test y justificar los resultados\n",
    "#### 2. Análisis de complejidad de vuestra implementación"
   ]
  },
  {
   "cell_type": "markdown",
   "metadata": {},
   "source": [
    "<div class=\"alert alert-info\">\n",
    "<center>\n",
    "  <h1>Entrega</h1>\n",
    "</center>\n",
    "<p>\n",
    "La entrega de esta práctica tiene como fecha límite el **domingo, 25 de diciembre de 2016 a las 23:55**. En el campus virtual deberéis subir este fichero con las funciones implementadas y las secciones de comentarios debidamente rellenadas.\n",
    "</p>\n",
    "\n",
    "<p>\n",
    "Este fichero es la parte 1/2 de la segunda entrega, correspondiente a algoritmos de programación dinámica.\n",
    "</p>\n",
    "\n",
    "<p>\n",
    "La entrega tiene que consistir en un solo fichero **.ipynb** con el nombre: AA\\_*Apellido1Apellido2*_*Nombre*_dp1.ipyn\n",
    "</p>"
   ]
  },
  {
   "cell_type": "code",
   "execution_count": null,
   "metadata": {
    "collapsed": false
   },
   "outputs": [],
   "source": [
    "from numpy import array, zeros, argmin, inf\n",
    "\n",
    "def dtw(x, y, dist):\n",
    "    \"\"\"\n",
    "    Computes Dynamic Time Warping (DTW) of two sequences.\n",
    "    :param array x: N1*M array\n",
    "    :param array y: N2*M array\n",
    "    :param func dist: distance used as cost measure\n",
    "    Returns the minimum distance, the cost matrix, the accumulated cost matrix, and the wrap path.\n",
    "    \"\"\"\n",
    "    assert len(x)\n",
    "    assert len(y)\n",
    "    r, c = len(x), len(y)\n",
    "    D0 = zeros((r + 1, c + 1))\n",
    "\n",
    "    D0[0, 1:] = 0\n",
    "    D0[1:, 0] = 0\n",
    "    print D0\n",
    "    D1 = D0[1:, 1:] # view\n",
    "    print D1\n",
    "    for i in range(r):\n",
    "        for j in range(c):\n",
    "            D1[i, j] = dist(x[i], y[j])\n",
    "    C = D1.copy()\n",
    "    for i in range(r):\n",
    "        for j in range(c):\n",
    "            D1[i, j] += min(D0[i, j], D0[i, j+1], D0[i+1, j])\n",
    "    if len(x)==1:\n",
    "        path = zeros(len(y)), range(len(y))\n",
    "    elif len(y) == 1:\n",
    "        path = range(len(x)), zeros(len(x))\n",
    "    else:\n",
    "        path = _traceback(D0)\n",
    "    \n",
    "    print D1\n",
    "    return D1[-1, -1] / sum(D1.shape), C, D1, path\n",
    "\n",
    "def _traceback(D):\n",
    "    i, j = array(D.shape) - 2\n",
    "    p, q = [i], [j]\n",
    "    while ((i > 0) or (j > 0)):\n",
    "        tb = argmin((D[i, j], D[i, j+1], D[i+1, j]))\n",
    "        if (tb == 0):\n",
    "            i -= 1\n",
    "            j -= 1\n",
    "        elif (tb == 1):\n",
    "            i -= 1\n",
    "        else: # (tb == 2):\n",
    "            j -= 1\n",
    "        p.insert(0, i)\n",
    "        q.insert(0, j)\n",
    "    return array(p), array(q)\n",
    "\n",
    "if __name__ == '__main__':\n",
    "    if 0: # 1-D numeric\n",
    "        from sklearn.metrics.pairwise import manhattan_distances\n",
    "        x = [0, 0, 1, 1, 2, 4, 2, 1, 2, 0]\n",
    "        y = [1, 1, 1, 2, 2, 2, 2, 3, 2, 0]\n",
    "        dist_fun = manhattan_distances\n",
    "    elif 0: # 2-D numeric\n",
    "        from sklearn.metrics.pairwise import euclidean_distances\n",
    "        x = [[0, 0], [0, 1], [1, 1], [1, 2], [2, 2], [4, 3], [2, 3], [1, 1], [2, 2], [0, 1]]\n",
    "        y = [[1, 0], [1, 1], [1, 1], [2, 1], [4, 3], [4, 3], [2, 3], [3, 1], [1, 2], [1, 0]]\n",
    "        dist_fun = euclidean_distances\n",
    "    else: # 1-D list of strings\n",
    "        from nltk.metrics.distance import edit_distance\n",
    "        #x = ['we', 'shelled', 'clams', 'for', 'the', 'chowder']\n",
    "        #y = ['class', 'too']\n",
    "        x = ['i', 'soon', 'found', 'myself', 'muttering', 'to', 'the', 'walls']\n",
    "        y = ['see', 'drown', 'himself']\n",
    "        #x = 'we talked about the situation'.split()\n",
    "        #y = 'we talked about the situation'.split()\n",
    "        dist_fun = edit_distance\n",
    "    dist, cost, acc, path = dtw(x, y, dist_fun)\n",
    "\n",
    "    # vizualize\n",
    "    from matplotlib import pyplot as plt\n",
    "    plt.imshow(cost.T, origin='lower', cmap=plt.cm.Reds, interpolation='nearest')\n",
    "    plt.plot(path[0], path[1], '-o') # relation\n",
    "    plt.xticks(range(len(x)), x)\n",
    "    plt.yticks(range(len(y)), y)\n",
    "    plt.xlabel('x')\n",
    "    plt.ylabel('y')\n",
    "    plt.axis('tight')\n",
    "    plt.title('Minimum distance: {}'.format(dist))\n",
    "    plt.show()"
   ]
  },
  {
   "cell_type": "code",
   "execution_count": null,
   "metadata": {
    "collapsed": false
   },
   "outputs": [],
   "source": [
    "\n",
    "def my_custom_norm(v1, v2):\n",
    "    return (x * x) + (y * y)\n",
    "\n",
    "dist, cost, acc, path = dtw(x, y, dist=my_custom_norm)"
   ]
  },
  {
   "cell_type": "code",
   "execution_count": 12,
   "metadata": {
    "collapsed": false
   },
   "outputs": [
    {
     "name": "stdout",
     "output_type": "stream",
     "text": [
      "Total Distance is  34.0\n"
     ]
    },
    {
     "data": {
      "image/png": "[encoded data removed]",
      "text/plain": [
       "<matplotlib.figure.Figure at 0x79a5ef0>"
      ]
     },
     "metadata": {},
     "output_type": "display_data"
    }
   ],
   "source": [
    "\n",
    "\n",
    "from math import *\n",
    "import numpy as np\n",
    "import sys\n",
    "\n",
    "def DTW(A, B, window = sys.maxint, d = lambda x,y: abs(x-y)):\n",
    "    # create the cost matrix\n",
    "    A, B = np.array(A), np.array(B)\n",
    "    M, N = len(A), len(B)\n",
    "    cost = sys.maxint * np.ones((M, N))\n",
    "    \n",
    "\n",
    "    # initialize the first row and column\n",
    "    cost[0, 0] = d(A[0], B[0])\n",
    "    for i in range(1, M):\n",
    "        cost[i, 0] = cost[i-1, 0] + d(A[i], B[0])\n",
    "\n",
    "    for j in range(1, N):\n",
    "        cost[0, j] = cost[0, j-1] + d(A[0], B[j])\n",
    "    # fill in the rest of the matrix\n",
    "    for i in range(1, M):\n",
    "        for j in range(max(1, i - window), min(N, i + window)):\n",
    "            choices = cost[i - 1, j - 1], cost[i, j-1], cost[i-1, j]\n",
    "            cost[i, j] = min(choices) + d(A[i], B[j])\n",
    "\n",
    "    # find the optimal path\n",
    "    n, m = N - 1, M - 1\n",
    "    path = []\n",
    "\n",
    "    while (m, n) != (0, 0):\n",
    "        path.append((m, n))\n",
    "        m, n = min((m - 1, n), (m, n - 1), (m - 1, n - 1), key = lambda x: cost[x[0], x[1]])\n",
    "    \n",
    "    path.append((0,0))\n",
    "    return cost[-1, -1], path\n",
    "\n",
    "def main():\n",
    "    A, B = np.array([1,2,3,4,2,3]), np.array([1,1,3,3,4,3,3])\n",
    "    C = np.array([7,8,5,9,11,9])\n",
    "    B = C\n",
    "    cost, path = DTW(A, B, window = 4)\n",
    "    print 'Total Distance is ', cost\n",
    "    import matplotlib.pyplot as plt\n",
    "    offset = 5\n",
    "    plt.xlim([-1, max(len(A), len(B)) + 1])\n",
    "    plt.plot(A)\n",
    "    plt.plot(B + offset)\n",
    "    for (x1, x2) in path:\n",
    "        plt.plot([x1, x2], [A[x1], B[x2] + offset])\n",
    "    plt.show()\n",
    "\n",
    "if __name__ == '__main__':\n",
    "    main()"
   ]
  },
  {
   "cell_type": "code",
   "execution_count": null,
   "metadata": {
    "collapsed": true
   },
   "outputs": [],
   "source": []
  }
 ],
 "metadata": {
  "anaconda-cloud": {},
  "kernelspec": {
   "display_name": "Python [conda root]",
   "language": "python",
   "name": "conda-root-py"
  },
  "language_info": {
   "codemirror_mode": {
    "name": "ipython",
    "version": 2
   },
   "file_extension": ".py",
   "mimetype": "text/x-python",
   "name": "python",
   "nbconvert_exporter": "python",
   "pygments_lexer": "ipython2",
   "version": "2.7.12"
  }
 },
 "nbformat": 4,
 "nbformat_minor": 0
}
